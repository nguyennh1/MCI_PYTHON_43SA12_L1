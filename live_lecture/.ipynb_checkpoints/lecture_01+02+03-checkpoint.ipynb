{
 "cells": [
  {
   "cell_type": "code",
   "execution_count": 1,
   "id": "0e3a4b75",
   "metadata": {},
   "outputs": [
    {
     "name": "stdout",
     "output_type": "stream",
     "text": [
      "Hello world!\n"
     ]
    }
   ],
   "source": [
    "print(\"Hello world!\")"
   ]
  },
  {
   "cell_type": "code",
   "execution_count": 2,
   "id": "d4d77613",
   "metadata": {},
   "outputs": [
    {
     "data": {
      "text/plain": [
       "2"
      ]
     },
     "execution_count": 2,
     "metadata": {},
     "output_type": "execute_result"
    }
   ],
   "source": [
    "1 + 1"
   ]
  },
  {
   "cell_type": "markdown",
   "id": "20bb9665",
   "metadata": {},
   "source": [
    "# Heading 1"
   ]
  },
  {
   "cell_type": "markdown",
   "id": "df689a48",
   "metadata": {},
   "source": [
    "## Heading 2"
   ]
  },
  {
   "cell_type": "markdown",
   "id": "d0b7e4e5",
   "metadata": {},
   "source": [
    "### Heading 3"
   ]
  },
  {
   "cell_type": "markdown",
   "id": "e354540d",
   "metadata": {},
   "source": [
    "### Heading 3"
   ]
  },
  {
   "cell_type": "markdown",
   "id": "0275bb06",
   "metadata": {},
   "source": [
    "<h1 style=\"color:blue;\">Heading 1 </h1>"
   ]
  },
  {
   "cell_type": "markdown",
   "id": "8300dc7f",
   "metadata": {},
   "source": [
    "### Heading"
   ]
  },
  {
   "cell_type": "markdown",
   "id": "ba954b4f",
   "metadata": {},
   "source": [
    "**Bold**"
   ]
  },
  {
   "cell_type": "markdown",
   "id": "86b97419",
   "metadata": {},
   "source": [
    "*Italic*"
   ]
  },
  {
   "cell_type": "markdown",
   "id": "3bbdebcf",
   "metadata": {},
   "source": [
    "```python\n",
    "print('Hello world')\n",
    "```"
   ]
  },
  {
   "cell_type": "markdown",
   "id": "9e0bef0f",
   "metadata": {},
   "source": [
    "- List 1\n",
    "- List 2\n",
    "- List 3"
   ]
  },
  {
   "cell_type": "markdown",
   "id": "faafc480",
   "metadata": {},
   "source": [
    "Description\n",
    "---"
   ]
  },
  {
   "cell_type": "markdown",
   "id": "66e3afe8",
   "metadata": {},
   "source": [
    "![Shortcut](https://miro.medium.com/max/1400/1*9oHMzUlcyyWRbAIGTIibnQ.png)"
   ]
  },
  {
   "cell_type": "markdown",
   "id": "a05b6ba5",
   "metadata": {},
   "source": [
    "### 1. Operation"
   ]
  },
  {
   "cell_type": "code",
   "execution_count": 3,
   "id": "97564fa8",
   "metadata": {},
   "outputs": [
    {
     "data": {
      "text/plain": [
       "2"
      ]
     },
     "execution_count": 3,
     "metadata": {},
     "output_type": "execute_result"
    }
   ],
   "source": [
    "1 + 1"
   ]
  },
  {
   "cell_type": "code",
   "execution_count": 4,
   "id": "49f86108",
   "metadata": {},
   "outputs": [
    {
     "data": {
      "text/plain": [
       "-1"
      ]
     },
     "execution_count": 4,
     "metadata": {},
     "output_type": "execute_result"
    }
   ],
   "source": [
    "2 - 3"
   ]
  },
  {
   "cell_type": "code",
   "execution_count": 5,
   "id": "6f8ee08f",
   "metadata": {},
   "outputs": [
    {
     "data": {
      "text/plain": [
       "6"
      ]
     },
     "execution_count": 5,
     "metadata": {},
     "output_type": "execute_result"
    }
   ],
   "source": [
    "3 * 2"
   ]
  },
  {
   "cell_type": "code",
   "execution_count": 6,
   "id": "4a614471",
   "metadata": {},
   "outputs": [
    {
     "data": {
      "text/plain": [
       "2.0"
      ]
     },
     "execution_count": 6,
     "metadata": {},
     "output_type": "execute_result"
    }
   ],
   "source": [
    "10 / 5"
   ]
  },
  {
   "cell_type": "code",
   "execution_count": 7,
   "id": "b77ea5c4",
   "metadata": {},
   "outputs": [
    {
     "data": {
      "text/plain": [
       "0.6666666666666666"
      ]
     },
     "execution_count": 7,
     "metadata": {},
     "output_type": "execute_result"
    }
   ],
   "source": [
    "2/3"
   ]
  },
  {
   "cell_type": "code",
   "execution_count": 8,
   "id": "c7e0cbd1",
   "metadata": {},
   "outputs": [
    {
     "data": {
      "text/plain": [
       "1"
      ]
     },
     "execution_count": 8,
     "metadata": {},
     "output_type": "execute_result"
    }
   ],
   "source": [
    "# Module\n",
    "5 % 2"
   ]
  },
  {
   "cell_type": "code",
   "execution_count": 9,
   "id": "47c65b13",
   "metadata": {},
   "outputs": [
    {
     "data": {
      "text/plain": [
       "2"
      ]
     },
     "execution_count": 9,
     "metadata": {},
     "output_type": "execute_result"
    }
   ],
   "source": [
    "11 % 3"
   ]
  },
  {
   "cell_type": "code",
   "execution_count": 11,
   "id": "ecefa37e",
   "metadata": {},
   "outputs": [
    {
     "data": {
      "text/plain": [
       "3"
      ]
     },
     "execution_count": 11,
     "metadata": {},
     "output_type": "execute_result"
    }
   ],
   "source": [
    "# Floor division\n",
    "11 // 3"
   ]
  },
  {
   "cell_type": "code",
   "execution_count": 12,
   "id": "d8be5072",
   "metadata": {},
   "outputs": [
    {
     "data": {
      "text/plain": [
       "8"
      ]
     },
     "execution_count": 12,
     "metadata": {},
     "output_type": "execute_result"
    }
   ],
   "source": [
    "2**3"
   ]
  },
  {
   "cell_type": "code",
   "execution_count": 13,
   "id": "ba6d35f3",
   "metadata": {},
   "outputs": [
    {
     "data": {
      "text/plain": [
       "3.0"
      ]
     },
     "execution_count": 13,
     "metadata": {},
     "output_type": "execute_result"
    }
   ],
   "source": [
    "9**(1/2)"
   ]
  },
  {
   "cell_type": "code",
   "execution_count": 15,
   "id": "e798da54",
   "metadata": {},
   "outputs": [],
   "source": [
    "import numpy as np"
   ]
  },
  {
   "cell_type": "code",
   "execution_count": 16,
   "id": "c9dcf1ba",
   "metadata": {},
   "outputs": [
    {
     "data": {
      "text/plain": [
       "3.0"
      ]
     },
     "execution_count": 16,
     "metadata": {},
     "output_type": "execute_result"
    }
   ],
   "source": [
    "np.ceil(5/2)"
   ]
  },
  {
   "cell_type": "code",
   "execution_count": 18,
   "id": "dd24d191",
   "metadata": {},
   "outputs": [
    {
     "data": {
      "text/plain": [
       "True"
      ]
     },
     "execution_count": 18,
     "metadata": {},
     "output_type": "execute_result"
    }
   ],
   "source": [
    "True^False"
   ]
  },
  {
   "cell_type": "code",
   "execution_count": 19,
   "id": "3dca1d1d",
   "metadata": {},
   "outputs": [
    {
     "data": {
      "text/plain": [
       "3"
      ]
     },
     "execution_count": 19,
     "metadata": {},
     "output_type": "execute_result"
    }
   ],
   "source": [
    "abs(-3)"
   ]
  },
  {
   "cell_type": "code",
   "execution_count": 22,
   "id": "de859ae8",
   "metadata": {},
   "outputs": [
    {
     "data": {
      "text/plain": [
       "3.33"
      ]
     },
     "execution_count": 22,
     "metadata": {},
     "output_type": "execute_result"
    }
   ],
   "source": [
    "round(10/3, 2)"
   ]
  },
  {
   "cell_type": "markdown",
   "id": "045b1dd8",
   "metadata": {},
   "source": [
    "### 2. Data type\n",
    "Programming = Data structure + Algorithm\n",
    "- Data structure: What computer undestand\n",
    "- Algorithm: What computer do"
   ]
  },
  {
   "cell_type": "markdown",
   "id": "9811192c",
   "metadata": {},
   "source": [
    "- Nummeric (integer, float, complex)\n",
    "- String: '' / \"\"\n",
    "- Boolean: True / False\n",
    "- NoneType"
   ]
  },
  {
   "cell_type": "markdown",
   "id": "763b74dd",
   "metadata": {},
   "source": [
    "Function:\n",
    "- Built-in function\n",
    "- UDF (user-defined function)"
   ]
  },
  {
   "cell_type": "code",
   "execution_count": 23,
   "id": "3084072b",
   "metadata": {},
   "outputs": [
    {
     "data": {
      "text/plain": [
       "int"
      ]
     },
     "execution_count": 23,
     "metadata": {},
     "output_type": "execute_result"
    }
   ],
   "source": [
    "type(1)"
   ]
  },
  {
   "cell_type": "code",
   "execution_count": 24,
   "id": "08f42704",
   "metadata": {},
   "outputs": [
    {
     "data": {
      "text/plain": [
       "float"
      ]
     },
     "execution_count": 24,
     "metadata": {},
     "output_type": "execute_result"
    }
   ],
   "source": [
    "type(2.7)"
   ]
  },
  {
   "cell_type": "code",
   "execution_count": 25,
   "id": "3405a0dd",
   "metadata": {},
   "outputs": [
    {
     "data": {
      "text/plain": [
       "complex"
      ]
     },
     "execution_count": 25,
     "metadata": {},
     "output_type": "execute_result"
    }
   ],
   "source": [
    "type(1 + 3j)"
   ]
  },
  {
   "cell_type": "code",
   "execution_count": 26,
   "id": "1ee3867b",
   "metadata": {},
   "outputs": [
    {
     "data": {
      "text/plain": [
       "1"
      ]
     },
     "execution_count": 26,
     "metadata": {},
     "output_type": "execute_result"
    }
   ],
   "source": [
    "(-1)**2"
   ]
  },
  {
   "cell_type": "code",
   "execution_count": 28,
   "id": "00b6fac3",
   "metadata": {},
   "outputs": [
    {
     "data": {
      "text/plain": [
       "(-1+0j)"
      ]
     },
     "execution_count": 28,
     "metadata": {},
     "output_type": "execute_result"
    }
   ],
   "source": [
    "(-1j)**2"
   ]
  },
  {
   "cell_type": "code",
   "execution_count": 30,
   "id": "98e11038",
   "metadata": {},
   "outputs": [
    {
     "data": {
      "text/plain": [
       "str"
      ]
     },
     "execution_count": 30,
     "metadata": {},
     "output_type": "execute_result"
    }
   ],
   "source": [
    "type('I am groot')"
   ]
  },
  {
   "cell_type": "code",
   "execution_count": 31,
   "id": "f9dd041a",
   "metadata": {},
   "outputs": [
    {
     "data": {
      "text/plain": [
       "bool"
      ]
     },
     "execution_count": 31,
     "metadata": {},
     "output_type": "execute_result"
    }
   ],
   "source": [
    "type(True)"
   ]
  },
  {
   "cell_type": "code",
   "execution_count": 32,
   "id": "f54518a7",
   "metadata": {},
   "outputs": [
    {
     "data": {
      "text/plain": [
       "bool"
      ]
     },
     "execution_count": 32,
     "metadata": {},
     "output_type": "execute_result"
    }
   ],
   "source": [
    "type(False)"
   ]
  },
  {
   "cell_type": "code",
   "execution_count": 33,
   "id": "8114fb4f",
   "metadata": {},
   "outputs": [
    {
     "data": {
      "text/plain": [
       "NoneType"
      ]
     },
     "execution_count": 33,
     "metadata": {},
     "output_type": "execute_result"
    }
   ],
   "source": [
    "type(None)"
   ]
  },
  {
   "cell_type": "code",
   "execution_count": 37,
   "id": "d1e76b73",
   "metadata": {},
   "outputs": [
    {
     "data": {
      "text/plain": [
       "True"
      ]
     },
     "execution_count": 37,
     "metadata": {},
     "output_type": "execute_result"
    }
   ],
   "source": [
    "True and True"
   ]
  },
  {
   "cell_type": "code",
   "execution_count": 38,
   "id": "f1ec4fbb",
   "metadata": {},
   "outputs": [
    {
     "data": {
      "text/plain": [
       "False"
      ]
     },
     "execution_count": 38,
     "metadata": {},
     "output_type": "execute_result"
    }
   ],
   "source": [
    "True and False and True"
   ]
  },
  {
   "cell_type": "code",
   "execution_count": 39,
   "id": "8fceffe8",
   "metadata": {},
   "outputs": [
    {
     "data": {
      "text/plain": [
       "True"
      ]
     },
     "execution_count": 39,
     "metadata": {},
     "output_type": "execute_result"
    }
   ],
   "source": [
    "True or False or False"
   ]
  },
  {
   "cell_type": "code",
   "execution_count": 40,
   "id": "b6fcde69",
   "metadata": {},
   "outputs": [
    {
     "data": {
      "text/plain": [
       "False"
      ]
     },
     "execution_count": 40,
     "metadata": {},
     "output_type": "execute_result"
    }
   ],
   "source": [
    "not True"
   ]
  },
  {
   "cell_type": "code",
   "execution_count": 42,
   "id": "2a336c75",
   "metadata": {},
   "outputs": [
    {
     "data": {
      "text/plain": [
       "True"
      ]
     },
     "execution_count": 42,
     "metadata": {},
     "output_type": "execute_result"
    }
   ],
   "source": [
    "True and False or True or not False"
   ]
  },
  {
   "cell_type": "code",
   "execution_count": 43,
   "id": "f219b7b8",
   "metadata": {},
   "outputs": [
    {
     "data": {
      "text/plain": [
       "True"
      ]
     },
     "execution_count": 43,
     "metadata": {},
     "output_type": "execute_result"
    }
   ],
   "source": [
    "3 < 4"
   ]
  },
  {
   "cell_type": "code",
   "execution_count": 45,
   "id": "6cdae361",
   "metadata": {},
   "outputs": [
    {
     "data": {
      "text/plain": [
       "True"
      ]
     },
     "execution_count": 45,
     "metadata": {},
     "output_type": "execute_result"
    }
   ],
   "source": [
    "(4 < 4) or (4 == 4) # lesser or equal"
   ]
  },
  {
   "cell_type": "code",
   "execution_count": 46,
   "id": "cc82f2a1",
   "metadata": {},
   "outputs": [],
   "source": [
    "a = 10_000_000"
   ]
  },
  {
   "cell_type": "code",
   "execution_count": 48,
   "id": "9dc47bc1",
   "metadata": {},
   "outputs": [
    {
     "data": {
      "text/plain": [
       "10000000"
      ]
     },
     "execution_count": 48,
     "metadata": {},
     "output_type": "execute_result"
    }
   ],
   "source": [
    "a # variable"
   ]
  },
  {
   "cell_type": "markdown",
   "id": "e19ca1f1",
   "metadata": {},
   "source": [
    "#### String format "
   ]
  },
  {
   "cell_type": "code",
   "execution_count": 53,
   "id": "016b7191",
   "metadata": {},
   "outputs": [
    {
     "name": "stdout",
     "output_type": "stream",
     "text": [
      "Hello Truong Nguyen\n"
     ]
    }
   ],
   "source": [
    "first_name = 'Truong'\n",
    "last_name = 'Nguyen'\n",
    "print(f\"Hello {first_name} {last_name}\")"
   ]
  },
  {
   "cell_type": "code",
   "execution_count": 55,
   "id": "e96b91b7",
   "metadata": {},
   "outputs": [
    {
     "name": "stdout",
     "output_type": "stream",
     "text": [
      "Hello Nguyen Truong\n"
     ]
    }
   ],
   "source": [
    "first_name = 'Truong'\n",
    "last_name = 'Nguyen'\n",
    "print(\"Hello {} {}\".format(last_name, first_name))"
   ]
  },
  {
   "cell_type": "code",
   "execution_count": 57,
   "id": "a1f2f4b3",
   "metadata": {},
   "outputs": [
    {
     "name": "stdout",
     "output_type": "stream",
     "text": [
      "Hello Nguyen Truong\n"
     ]
    }
   ],
   "source": [
    "first_name = 'Truong'\n",
    "last_name = 'Nguyen'\n",
    "print(\"Hello {last} {first}\".format(first=first_name, last=last_name))"
   ]
  },
  {
   "cell_type": "markdown",
   "id": "62d2ca87",
   "metadata": {},
   "source": [
    "### 3. Data Structure\n",
    "- List\n",
    "- Tuple\n",
    "- Set\n",
    "- Dictionary"
   ]
  },
  {
   "cell_type": "markdown",
   "id": "57273961",
   "metadata": {},
   "source": [
    "##### 3.1 List"
   ]
  },
  {
   "cell_type": "markdown",
   "id": "2e5f0fd2",
   "metadata": {},
   "source": [
    "- [], list()\n",
    "- index: order of values\n",
    "- value: Values in list"
   ]
  },
  {
   "cell_type": "code",
   "execution_count": 1,
   "id": "c74091ee",
   "metadata": {},
   "outputs": [],
   "source": [
    "li = [1, 2, 3, True, 'Truong', 1 + 2j]"
   ]
  },
  {
   "cell_type": "code",
   "execution_count": 3,
   "id": "09465696",
   "metadata": {},
   "outputs": [
    {
     "data": {
      "text/plain": [
       "[1, 2, 3, True, 'Truong', (1+2j)]"
      ]
     },
     "execution_count": 3,
     "metadata": {},
     "output_type": "execute_result"
    }
   ],
   "source": [
    "# Variable\n",
    "li"
   ]
  },
  {
   "cell_type": "code",
   "execution_count": 4,
   "id": "378e33ba",
   "metadata": {},
   "outputs": [
    {
     "data": {
      "text/plain": [
       "140433894198528"
      ]
     },
     "execution_count": 4,
     "metadata": {},
     "output_type": "execute_result"
    }
   ],
   "source": [
    "id(li)"
   ]
  },
  {
   "cell_type": "code",
   "execution_count": 29,
   "id": "42f0d54b",
   "metadata": {},
   "outputs": [
    {
     "data": {
      "text/plain": [
       "['__add__',\n",
       " '__class__',\n",
       " '__class_getitem__',\n",
       " '__contains__',\n",
       " '__delattr__',\n",
       " '__delitem__',\n",
       " '__dir__',\n",
       " '__doc__',\n",
       " '__eq__',\n",
       " '__format__',\n",
       " '__ge__',\n",
       " '__getattribute__',\n",
       " '__getitem__',\n",
       " '__gt__',\n",
       " '__hash__',\n",
       " '__iadd__',\n",
       " '__imul__',\n",
       " '__init__',\n",
       " '__init_subclass__',\n",
       " '__iter__',\n",
       " '__le__',\n",
       " '__len__',\n",
       " '__lt__',\n",
       " '__mul__',\n",
       " '__ne__',\n",
       " '__new__',\n",
       " '__reduce__',\n",
       " '__reduce_ex__',\n",
       " '__repr__',\n",
       " '__reversed__',\n",
       " '__rmul__',\n",
       " '__setattr__',\n",
       " '__setitem__',\n",
       " '__sizeof__',\n",
       " '__str__',\n",
       " '__subclasshook__',\n",
       " 'append',\n",
       " 'clear',\n",
       " 'copy',\n",
       " 'count',\n",
       " 'extend',\n",
       " 'index',\n",
       " 'insert',\n",
       " 'pop',\n",
       " 'remove',\n",
       " 'reverse',\n",
       " 'sort']"
      ]
     },
     "execution_count": 29,
     "metadata": {},
     "output_type": "execute_result"
    }
   ],
   "source": [
    "dir(li)"
   ]
  },
  {
   "cell_type": "code",
   "execution_count": 6,
   "id": "c818790d",
   "metadata": {},
   "outputs": [
    {
     "data": {
      "text/plain": [
       "['append',\n",
       " 'clear',\n",
       " 'copy',\n",
       " 'count',\n",
       " 'extend',\n",
       " 'index',\n",
       " 'insert',\n",
       " 'pop',\n",
       " 'remove',\n",
       " 'reverse',\n",
       " 'sort']"
      ]
     },
     "execution_count": 6,
     "metadata": {},
     "output_type": "execute_result"
    }
   ],
   "source": [
    "[method for method in dir(li) if not method.startswith('_')]"
   ]
  },
  {
   "cell_type": "code",
   "execution_count": 7,
   "id": "bedbed24",
   "metadata": {},
   "outputs": [
    {
     "data": {
      "text/plain": [
       "[1, 2, 3, True, 'Truong', (1+2j)]"
      ]
     },
     "execution_count": 7,
     "metadata": {},
     "output_type": "execute_result"
    }
   ],
   "source": [
    "li"
   ]
  },
  {
   "cell_type": "code",
   "execution_count": 8,
   "id": "8ada93ac",
   "metadata": {},
   "outputs": [
    {
     "data": {
      "text/plain": [
       "True"
      ]
     },
     "execution_count": 8,
     "metadata": {},
     "output_type": "execute_result"
    }
   ],
   "source": [
    "li[3]"
   ]
  },
  {
   "cell_type": "code",
   "execution_count": 9,
   "id": "498fa8ce",
   "metadata": {},
   "outputs": [
    {
     "data": {
      "text/plain": [
       "(1+2j)"
      ]
     },
     "execution_count": 9,
     "metadata": {},
     "output_type": "execute_result"
    }
   ],
   "source": [
    "li[-1]"
   ]
  },
  {
   "cell_type": "code",
   "execution_count": 10,
   "id": "52185a17",
   "metadata": {},
   "outputs": [
    {
     "data": {
      "text/plain": [
       "[2, 3]"
      ]
     },
     "execution_count": 10,
     "metadata": {},
     "output_type": "execute_result"
    }
   ],
   "source": [
    "# start: inclusive, end: exclusive\n",
    "li[1:3]"
   ]
  },
  {
   "cell_type": "code",
   "execution_count": 11,
   "id": "05499e5d",
   "metadata": {},
   "outputs": [
    {
     "data": {
      "text/plain": [
       "[1, 2, 3, True, 'Truong', (1+2j)]"
      ]
     },
     "execution_count": 11,
     "metadata": {},
     "output_type": "execute_result"
    }
   ],
   "source": [
    "li"
   ]
  },
  {
   "cell_type": "code",
   "execution_count": 14,
   "id": "fff3ec47",
   "metadata": {},
   "outputs": [
    {
     "data": {
      "text/plain": [
       "[1, 3, 'Truong']"
      ]
     },
     "execution_count": 14,
     "metadata": {},
     "output_type": "execute_result"
    }
   ],
   "source": [
    "# li[start:stop:step]\n",
    "li[::2]"
   ]
  },
  {
   "cell_type": "code",
   "execution_count": 16,
   "id": "f9f25cb4",
   "metadata": {},
   "outputs": [
    {
     "data": {
      "text/plain": [
       "[3, 'Truong']"
      ]
     },
     "execution_count": 16,
     "metadata": {},
     "output_type": "execute_result"
    }
   ],
   "source": [
    "li[2:-1: 2]"
   ]
  },
  {
   "cell_type": "code",
   "execution_count": 22,
   "id": "af059273",
   "metadata": {},
   "outputs": [
    {
     "data": {
      "text/plain": [
       "[3, 'Truong']"
      ]
     },
     "execution_count": 22,
     "metadata": {},
     "output_type": "execute_result"
    }
   ],
   "source": [
    "li[2:5: 2]"
   ]
  },
  {
   "cell_type": "code",
   "execution_count": 24,
   "id": "1c2f464a",
   "metadata": {},
   "outputs": [
    {
     "data": {
      "text/plain": [
       "[3, 'Truong']"
      ]
     },
     "execution_count": 24,
     "metadata": {},
     "output_type": "execute_result"
    }
   ],
   "source": [
    "li[2:len(li)-1:2]"
   ]
  },
  {
   "cell_type": "code",
   "execution_count": 21,
   "id": "2a951ae0",
   "metadata": {},
   "outputs": [
    {
     "data": {
      "text/plain": [
       "3"
      ]
     },
     "execution_count": 21,
     "metadata": {},
     "output_type": "execute_result"
    }
   ],
   "source": [
    "li[2]"
   ]
  },
  {
   "cell_type": "code",
   "execution_count": 20,
   "id": "875f6d1e",
   "metadata": {},
   "outputs": [
    {
     "data": {
      "text/plain": [
       "[3, 'Truong']"
      ]
     },
     "execution_count": 20,
     "metadata": {},
     "output_type": "execute_result"
    }
   ],
   "source": [
    "[li[2]] + [li[-2]]"
   ]
  },
  {
   "cell_type": "code",
   "execution_count": 25,
   "id": "4e94770a",
   "metadata": {},
   "outputs": [
    {
     "data": {
      "text/plain": [
       "[1, 2, 3, True, 'Truong', (1+2j)]"
      ]
     },
     "execution_count": 25,
     "metadata": {},
     "output_type": "execute_result"
    }
   ],
   "source": [
    "li"
   ]
  },
  {
   "cell_type": "code",
   "execution_count": 28,
   "id": "772e0ca6",
   "metadata": {},
   "outputs": [
    {
     "data": {
      "text/plain": [
       "[True, (1+2j)]"
      ]
     },
     "execution_count": 28,
     "metadata": {},
     "output_type": "execute_result"
    }
   ],
   "source": [
    "li[3::2]"
   ]
  },
  {
   "cell_type": "code",
   "execution_count": 30,
   "id": "c86bb71b",
   "metadata": {},
   "outputs": [
    {
     "data": {
      "text/plain": [
       "[1, 2, 3, True, 'Truong', (1+2j)]"
      ]
     },
     "execution_count": 30,
     "metadata": {},
     "output_type": "execute_result"
    }
   ],
   "source": [
    "li"
   ]
  },
  {
   "cell_type": "code",
   "execution_count": 31,
   "id": "0c8c574a",
   "metadata": {},
   "outputs": [
    {
     "data": {
      "text/plain": [
       "[1, 10, 3, True, 'Truong', (1+2j)]"
      ]
     },
     "execution_count": 31,
     "metadata": {},
     "output_type": "execute_result"
    }
   ],
   "source": [
    "li[1] = 10\n",
    "li"
   ]
  },
  {
   "cell_type": "code",
   "execution_count": 32,
   "id": "e604c6ea",
   "metadata": {},
   "outputs": [
    {
     "data": {
      "text/plain": [
       "[True, False, 'Nam', True, 'Truong', (1+2j)]"
      ]
     },
     "execution_count": 32,
     "metadata": {},
     "output_type": "execute_result"
    }
   ],
   "source": [
    "li[:3] = [True, False, 'Nam']\n",
    "li"
   ]
  },
  {
   "cell_type": "code",
   "execution_count": 33,
   "id": "a2ec42a7",
   "metadata": {},
   "outputs": [
    {
     "data": {
      "text/plain": [
       "[True, False, 'Nam', True, 'Truong']"
      ]
     },
     "execution_count": 33,
     "metadata": {},
     "output_type": "execute_result"
    }
   ],
   "source": [
    "# CRUD: Create/ Read / Update/ Delete\n",
    "del li[-1]\n",
    "li"
   ]
  },
  {
   "cell_type": "code",
   "execution_count": 34,
   "id": "b0fb8936",
   "metadata": {},
   "outputs": [
    {
     "data": {
      "text/plain": [
       "['append',\n",
       " 'clear',\n",
       " 'copy',\n",
       " 'count',\n",
       " 'extend',\n",
       " 'index',\n",
       " 'insert',\n",
       " 'pop',\n",
       " 'remove',\n",
       " 'reverse',\n",
       " 'sort']"
      ]
     },
     "execution_count": 34,
     "metadata": {},
     "output_type": "execute_result"
    }
   ],
   "source": [
    "[method for method in dir(li) if not method.startswith('_')]"
   ]
  },
  {
   "cell_type": "code",
   "execution_count": 35,
   "id": "eb3430ee",
   "metadata": {},
   "outputs": [
    {
     "data": {
      "text/plain": [
       "[True, False, 'Nam', True, 'Truong']"
      ]
     },
     "execution_count": 35,
     "metadata": {},
     "output_type": "execute_result"
    }
   ],
   "source": [
    "li"
   ]
  },
  {
   "cell_type": "code",
   "execution_count": 39,
   "id": "9f38b994",
   "metadata": {},
   "outputs": [
    {
     "data": {
      "text/plain": [
       "[True, False, 'Nam', True, 'Truong', 10, 10, 10]"
      ]
     },
     "execution_count": 39,
     "metadata": {},
     "output_type": "execute_result"
    }
   ],
   "source": [
    "li.append(10)\n",
    "li"
   ]
  },
  {
   "cell_type": "code",
   "execution_count": 42,
   "id": "7d88877d",
   "metadata": {},
   "outputs": [
    {
     "data": {
      "text/plain": [
       "[]"
      ]
     },
     "execution_count": 42,
     "metadata": {},
     "output_type": "execute_result"
    }
   ],
   "source": [
    "li.clear()\n",
    "li"
   ]
  },
  {
   "cell_type": "code",
   "execution_count": 43,
   "id": "bbdb330e",
   "metadata": {},
   "outputs": [
    {
     "data": {
      "text/plain": [
       "[True, False, 'Nam', True, 'Truong', 10, 10, 10]"
      ]
     },
     "execution_count": 43,
     "metadata": {},
     "output_type": "execute_result"
    }
   ],
   "source": [
    "li = [True, False, 'Nam', True, 'Truong', 10, 10, 10]\n",
    "li"
   ]
  },
  {
   "cell_type": "code",
   "execution_count": 44,
   "id": "df698b00",
   "metadata": {},
   "outputs": [
    {
     "data": {
      "text/plain": [
       "[True, False, 'Nam', True, 'Truong', 10, 10]"
      ]
     },
     "execution_count": 44,
     "metadata": {},
     "output_type": "execute_result"
    }
   ],
   "source": [
    "li.pop()\n",
    "li"
   ]
  },
  {
   "cell_type": "code",
   "execution_count": 45,
   "id": "a448914f",
   "metadata": {},
   "outputs": [
    {
     "data": {
      "text/plain": [
       "'Nam'"
      ]
     },
     "execution_count": 45,
     "metadata": {},
     "output_type": "execute_result"
    }
   ],
   "source": [
    "li.pop(2)"
   ]
  },
  {
   "cell_type": "code",
   "execution_count": 46,
   "id": "08e7e212",
   "metadata": {},
   "outputs": [
    {
     "data": {
      "text/plain": [
       "[True, False, True, 'Truong', 10, 10]"
      ]
     },
     "execution_count": 46,
     "metadata": {},
     "output_type": "execute_result"
    }
   ],
   "source": [
    "li"
   ]
  },
  {
   "cell_type": "code",
   "execution_count": 47,
   "id": "dbac998e",
   "metadata": {},
   "outputs": [],
   "source": [
    "li_1 = [1, 3, 4]\n",
    "li_2 = [True, False, 'NAM']"
   ]
  },
  {
   "cell_type": "code",
   "execution_count": 48,
   "id": "5adeca5c",
   "metadata": {},
   "outputs": [],
   "source": [
    "li_1.extend(li_2)"
   ]
  },
  {
   "cell_type": "code",
   "execution_count": 49,
   "id": "9f8b9f17",
   "metadata": {},
   "outputs": [
    {
     "data": {
      "text/plain": [
       "[1, 3, 4, True, False, 'NAM']"
      ]
     },
     "execution_count": 49,
     "metadata": {},
     "output_type": "execute_result"
    }
   ],
   "source": [
    "li_1"
   ]
  },
  {
   "cell_type": "code",
   "execution_count": 50,
   "id": "f11f2ab0",
   "metadata": {},
   "outputs": [
    {
     "data": {
      "text/plain": [
       "[1, 3, 4, True, False, 'NAM', [True, False, 'NAM']]"
      ]
     },
     "execution_count": 50,
     "metadata": {},
     "output_type": "execute_result"
    }
   ],
   "source": [
    "li_1.append(li_2)\n",
    "li_1"
   ]
  },
  {
   "cell_type": "code",
   "execution_count": 52,
   "id": "3ccdf40f",
   "metadata": {},
   "outputs": [
    {
     "data": {
      "text/plain": [
       "False"
      ]
     },
     "execution_count": 52,
     "metadata": {},
     "output_type": "execute_result"
    }
   ],
   "source": [
    "li_1[-1][1]"
   ]
  },
  {
   "cell_type": "code",
   "execution_count": 53,
   "id": "2816af9b",
   "metadata": {},
   "outputs": [
    {
     "data": {
      "text/plain": [
       "[True, False, True, 'Truong', 10]"
      ]
     },
     "execution_count": 53,
     "metadata": {},
     "output_type": "execute_result"
    }
   ],
   "source": [
    "li.pop(-1)\n",
    "li"
   ]
  },
  {
   "cell_type": "code",
   "execution_count": 54,
   "id": "923b6bd4",
   "metadata": {},
   "outputs": [
    {
     "data": {
      "text/plain": [
       "[True, False, True, 10]"
      ]
     },
     "execution_count": 54,
     "metadata": {},
     "output_type": "execute_result"
    }
   ],
   "source": [
    "li.remove('Truong')\n",
    "li"
   ]
  },
  {
   "cell_type": "code",
   "execution_count": 60,
   "id": "b2aa6d34",
   "metadata": {},
   "outputs": [],
   "source": [
    "li = [True, False, True, 10]\n",
    "li.remove(True)\n"
   ]
  },
  {
   "cell_type": "code",
   "execution_count": 61,
   "id": "7131dac8",
   "metadata": {},
   "outputs": [
    {
     "data": {
      "text/plain": [
       "[False, True, 10]"
      ]
     },
     "execution_count": 61,
     "metadata": {},
     "output_type": "execute_result"
    }
   ],
   "source": [
    "li"
   ]
  },
  {
   "cell_type": "code",
   "execution_count": 56,
   "id": "ff9e1ec5",
   "metadata": {},
   "outputs": [
    {
     "data": {
      "text/plain": [
       "[True, False, True, 10]"
      ]
     },
     "execution_count": 56,
     "metadata": {},
     "output_type": "execute_result"
    }
   ],
   "source": [
    "li"
   ]
  },
  {
   "cell_type": "code",
   "execution_count": 57,
   "id": "0a9394b9",
   "metadata": {},
   "outputs": [
    {
     "data": {
      "text/plain": [
       "[True, False]"
      ]
     },
     "execution_count": 57,
     "metadata": {},
     "output_type": "execute_result"
    }
   ],
   "source": [
    "del li[2:]\n",
    "li"
   ]
  },
  {
   "cell_type": "code",
   "execution_count": 65,
   "id": "2d892478",
   "metadata": {},
   "outputs": [],
   "source": [
    "a = 1"
   ]
  },
  {
   "cell_type": "markdown",
   "id": "79499559",
   "metadata": {},
   "source": [
    "#### 3.2. Tuple\n",
    "- (), tuple\n",
    "- index, value\n",
    "- immutable # mutable"
   ]
  },
  {
   "cell_type": "markdown",
   "id": "43f971e6",
   "metadata": {},
   "source": [
    "![](https://miro.medium.com/max/1316/1*uFlTNY4W3czywyU18zxl8w.png)"
   ]
  },
  {
   "cell_type": "code",
   "execution_count": 69,
   "id": "a0bc614e",
   "metadata": {},
   "outputs": [
    {
     "data": {
      "text/plain": [
       "140435230222640"
      ]
     },
     "execution_count": 69,
     "metadata": {},
     "output_type": "execute_result"
    }
   ],
   "source": [
    "a = 1\n",
    "id(a)"
   ]
  },
  {
   "cell_type": "code",
   "execution_count": 70,
   "id": "d73e11aa",
   "metadata": {},
   "outputs": [
    {
     "data": {
      "text/plain": [
       "140435230222672"
      ]
     },
     "execution_count": 70,
     "metadata": {},
     "output_type": "execute_result"
    }
   ],
   "source": [
    "a = 2\n",
    "id(a)"
   ]
  },
  {
   "cell_type": "code",
   "execution_count": 79,
   "id": "43f5de92",
   "metadata": {},
   "outputs": [
    {
     "data": {
      "text/plain": [
       "[False, True, 10]"
      ]
     },
     "execution_count": 79,
     "metadata": {},
     "output_type": "execute_result"
    }
   ],
   "source": [
    "li"
   ]
  },
  {
   "cell_type": "code",
   "execution_count": 80,
   "id": "d19598b5",
   "metadata": {},
   "outputs": [
    {
     "data": {
      "text/plain": [
       "140433898729216"
      ]
     },
     "execution_count": 80,
     "metadata": {},
     "output_type": "execute_result"
    }
   ],
   "source": [
    "id(li)"
   ]
  },
  {
   "cell_type": "code",
   "execution_count": 81,
   "id": "7e680fea",
   "metadata": {},
   "outputs": [
    {
     "data": {
      "text/plain": [
       "[False, 10, 10]"
      ]
     },
     "execution_count": 81,
     "metadata": {},
     "output_type": "execute_result"
    }
   ],
   "source": [
    "li[1] = 10\n",
    "li"
   ]
  },
  {
   "cell_type": "code",
   "execution_count": 82,
   "id": "37f312fa",
   "metadata": {},
   "outputs": [
    {
     "data": {
      "text/plain": [
       "140433898729216"
      ]
     },
     "execution_count": 82,
     "metadata": {},
     "output_type": "execute_result"
    }
   ],
   "source": [
    "id(li)"
   ]
  },
  {
   "cell_type": "code",
   "execution_count": 83,
   "id": "55819f9a",
   "metadata": {},
   "outputs": [
    {
     "data": {
      "text/plain": [
       "(1, 2, 3, True, False)"
      ]
     },
     "execution_count": 83,
     "metadata": {},
     "output_type": "execute_result"
    }
   ],
   "source": [
    "tup = (1, 2, 3, True, False)\n",
    "tup"
   ]
  },
  {
   "cell_type": "code",
   "execution_count": 84,
   "id": "1737df52",
   "metadata": {},
   "outputs": [
    {
     "data": {
      "text/plain": [
       "['count', 'index']"
      ]
     },
     "execution_count": 84,
     "metadata": {},
     "output_type": "execute_result"
    }
   ],
   "source": [
    "[method for method in dir(tup) if not method.startswith('_')]"
   ]
  },
  {
   "cell_type": "code",
   "execution_count": 86,
   "id": "c27007f2",
   "metadata": {},
   "outputs": [
    {
     "data": {
      "text/plain": [
       "2"
      ]
     },
     "execution_count": 86,
     "metadata": {},
     "output_type": "execute_result"
    }
   ],
   "source": [
    "tup.count(1)"
   ]
  },
  {
   "cell_type": "code",
   "execution_count": 87,
   "id": "6ae56361",
   "metadata": {},
   "outputs": [
    {
     "data": {
      "text/plain": [
       "2"
      ]
     },
     "execution_count": 87,
     "metadata": {},
     "output_type": "execute_result"
    }
   ],
   "source": [
    "True + True"
   ]
  },
  {
   "cell_type": "code",
   "execution_count": 88,
   "id": "3d533a71",
   "metadata": {},
   "outputs": [
    {
     "data": {
      "text/plain": [
       "1"
      ]
     },
     "execution_count": 88,
     "metadata": {},
     "output_type": "execute_result"
    }
   ],
   "source": [
    "True + False"
   ]
  },
  {
   "cell_type": "code",
   "execution_count": 89,
   "id": "2bd0588a",
   "metadata": {},
   "outputs": [
    {
     "data": {
      "text/plain": [
       "(1, 2, 3, 4)"
      ]
     },
     "execution_count": 89,
     "metadata": {},
     "output_type": "execute_result"
    }
   ],
   "source": [
    "tuple([1, 2, 3, 4])"
   ]
  },
  {
   "cell_type": "markdown",
   "id": "95b522bf",
   "metadata": {},
   "source": [
    "#### 3.3. Set\n",
    "- {}, set()\n",
    "- Have no index --> no order\n",
    "- No duplicated values"
   ]
  },
  {
   "cell_type": "code",
   "execution_count": 90,
   "id": "13ef602e",
   "metadata": {},
   "outputs": [
    {
     "data": {
      "text/plain": [
       "{1, 2, 3}"
      ]
     },
     "execution_count": 90,
     "metadata": {},
     "output_type": "execute_result"
    }
   ],
   "source": [
    "set_1 = {1, 1, 2, 3, 3, True, True}\n",
    "set_1"
   ]
  },
  {
   "cell_type": "code",
   "execution_count": 92,
   "id": "88fb08ae",
   "metadata": {},
   "outputs": [
    {
     "ename": "TypeError",
     "evalue": "'set' object is not subscriptable",
     "output_type": "error",
     "traceback": [
      "\u001b[0;31m---------------------------------------------------------------------------\u001b[0m",
      "\u001b[0;31mTypeError\u001b[0m                                 Traceback (most recent call last)",
      "\u001b[0;32m/var/folders/38/8m_s13bd3yv5n_c2yrxs49v4d12jb4/T/ipykernel_15225/3305946359.py\u001b[0m in \u001b[0;36m<module>\u001b[0;34m\u001b[0m\n\u001b[0;32m----> 1\u001b[0;31m \u001b[0mset_1\u001b[0m\u001b[0;34m[\u001b[0m\u001b[0;36m0\u001b[0m\u001b[0;34m]\u001b[0m\u001b[0;34m\u001b[0m\u001b[0;34m\u001b[0m\u001b[0m\n\u001b[0m",
      "\u001b[0;31mTypeError\u001b[0m: 'set' object is not subscriptable"
     ]
    }
   ],
   "source": [
    "set_1[0]"
   ]
  },
  {
   "cell_type": "markdown",
   "id": "1023112c",
   "metadata": {},
   "source": [
    "![](https://encrypted-tbn0.gstatic.com/images?q=tbn:ANd9GcRwQnZCCUE-biManeakaHTED1dUTvM7wJty7w&usqp=CAU)"
   ]
  },
  {
   "cell_type": "code",
   "execution_count": 93,
   "id": "967db997",
   "metadata": {},
   "outputs": [],
   "source": [
    "set_1 = {1, 2, 3, 4, 5}\n",
    "set_2 = {4, 5, 6, 7}"
   ]
  },
  {
   "cell_type": "code",
   "execution_count": 94,
   "id": "086a35e9",
   "metadata": {},
   "outputs": [
    {
     "data": {
      "text/plain": [
       "{1, 2, 3, 4, 5, 6, 7}"
      ]
     },
     "execution_count": 94,
     "metadata": {},
     "output_type": "execute_result"
    }
   ],
   "source": [
    "set_1.union(set_2)"
   ]
  },
  {
   "cell_type": "code",
   "execution_count": 96,
   "id": "ceea1692",
   "metadata": {},
   "outputs": [],
   "source": [
    "set_1.update(set_2)"
   ]
  },
  {
   "cell_type": "code",
   "execution_count": 97,
   "id": "6179a961",
   "metadata": {},
   "outputs": [
    {
     "data": {
      "text/plain": [
       "{1, 2, 3, 4, 5, 6, 7}"
      ]
     },
     "execution_count": 97,
     "metadata": {},
     "output_type": "execute_result"
    }
   ],
   "source": [
    "set_1"
   ]
  },
  {
   "cell_type": "code",
   "execution_count": 98,
   "id": "69f3d1e3",
   "metadata": {},
   "outputs": [
    {
     "data": {
      "text/plain": [
       "{4, 5, 6, 7}"
      ]
     },
     "execution_count": 98,
     "metadata": {},
     "output_type": "execute_result"
    }
   ],
   "source": [
    "set_1.intersection(set_2)"
   ]
  },
  {
   "cell_type": "code",
   "execution_count": 101,
   "id": "71e1c5d5",
   "metadata": {},
   "outputs": [],
   "source": [
    "a = set_1.intersection_update(set_2)"
   ]
  },
  {
   "cell_type": "code",
   "execution_count": 103,
   "id": "e3660d2e",
   "metadata": {},
   "outputs": [
    {
     "data": {
      "text/plain": [
       "NoneType"
      ]
     },
     "execution_count": 103,
     "metadata": {},
     "output_type": "execute_result"
    }
   ],
   "source": [
    "type(a)"
   ]
  },
  {
   "cell_type": "code",
   "execution_count": 105,
   "id": "f8399e8f",
   "metadata": {},
   "outputs": [
    {
     "data": {
      "text/plain": [
       "{4, 5, 6, 7}"
      ]
     },
     "execution_count": 105,
     "metadata": {},
     "output_type": "execute_result"
    }
   ],
   "source": [
    "b = set_1.intersection(set_2)\n",
    "b"
   ]
  },
  {
   "cell_type": "code",
   "execution_count": 106,
   "id": "3f4e788e",
   "metadata": {},
   "outputs": [
    {
     "data": {
      "text/plain": [
       "{4, 5, 6, 7}"
      ]
     },
     "execution_count": 106,
     "metadata": {},
     "output_type": "execute_result"
    }
   ],
   "source": [
    "set_2"
   ]
  },
  {
   "cell_type": "code",
   "execution_count": 108,
   "id": "b4780ab4",
   "metadata": {},
   "outputs": [],
   "source": [
    "set_1 = {1, 2, 3, 4, 5, 6, 7}\n",
    "set_2 = {4, 5, 6, 7}"
   ]
  },
  {
   "cell_type": "code",
   "execution_count": 109,
   "id": "b17f57e7",
   "metadata": {},
   "outputs": [
    {
     "data": {
      "text/plain": [
       "True"
      ]
     },
     "execution_count": 109,
     "metadata": {},
     "output_type": "execute_result"
    }
   ],
   "source": [
    "set_1.issuperset(set_2)"
   ]
  },
  {
   "cell_type": "code",
   "execution_count": 110,
   "id": "f5a0aa3c",
   "metadata": {},
   "outputs": [
    {
     "data": {
      "text/plain": [
       "False"
      ]
     },
     "execution_count": 110,
     "metadata": {},
     "output_type": "execute_result"
    }
   ],
   "source": [
    "set_1.issubset(set_2)"
   ]
  },
  {
   "cell_type": "markdown",
   "id": "d307e9e9",
   "metadata": {},
   "source": [
    "##### 3.4. Dictionary\n",
    "\n",
    "- {key: value}, dict(): manage values by key\n",
    "- Key: no duplicated, value can be duplicated"
   ]
  },
  {
   "cell_type": "code",
   "execution_count": 112,
   "id": "5478aa1b",
   "metadata": {},
   "outputs": [
    {
     "data": {
      "text/plain": [
       "{'name': ['Truong', 'Thach', 'Binh', 'Yen'], 'age': [28, 24, 25, 22]}"
      ]
     },
     "execution_count": 112,
     "metadata": {},
     "output_type": "execute_result"
    }
   ],
   "source": [
    "dict_1 = {'name': ['Truong', 'Thach', 'Binh', 'Yen'],\n",
    "          'age': [28, 24, 25, 22]}\n",
    "dict_1"
   ]
  },
  {
   "cell_type": "code",
   "execution_count": 113,
   "id": "cff777d6",
   "metadata": {},
   "outputs": [
    {
     "data": {
      "text/plain": [
       "{'name': ('Truong', 'Thach', 'Binh', 'Yen'), 'age': [28, 24, 25, 22]}"
      ]
     },
     "execution_count": 113,
     "metadata": {},
     "output_type": "execute_result"
    }
   ],
   "source": [
    "dict_2 = {'name': ('Truong', 'Thach', 'Binh', 'Yen'),\n",
    "          'age': [28, 24, 25, 22]}\n",
    "dict_2"
   ]
  },
  {
   "cell_type": "code",
   "execution_count": 116,
   "id": "2db5cd20",
   "metadata": {},
   "outputs": [
    {
     "data": {
      "text/plain": [
       "'Binh'"
      ]
     },
     "execution_count": 116,
     "metadata": {},
     "output_type": "execute_result"
    }
   ],
   "source": [
    "dict_1['name'][-2]"
   ]
  },
  {
   "cell_type": "code",
   "execution_count": 117,
   "id": "1aaebd70",
   "metadata": {},
   "outputs": [],
   "source": [
    "import requests"
   ]
  },
  {
   "cell_type": "code",
   "execution_count": 118,
   "id": "903eb3c7",
   "metadata": {},
   "outputs": [],
   "source": [
    "url = 'https://finfo-api.vndirect.com.vn/v4/top_of_stocks?q=index:VNIndex~avgVol20p:gte:10000~changePrice1dPct:gt:0&size=10&sort=changePrice1dPct'\n",
    "data = requests.get(url).json()"
   ]
  },
  {
   "cell_type": "code",
   "execution_count": 126,
   "id": "fedd051d",
   "metadata": {},
   "outputs": [
    {
     "data": {
      "text/plain": [
       "{'code': 'AAA',\n",
       " 'index': 'VNINDEX',\n",
       " 'lastPrice': 21.4,\n",
       " 'changePrice1d': 1.4,\n",
       " 'changePrice1dPct': 7.0,\n",
       " 'accumulatedVal': 376944220000.0,\n",
       " 'changeVol20p': 239.59645095598236,\n",
       " 'avgVol20p': 7643185.0,\n",
       " 'changeVolPt1p': 0.0,\n",
       " 'changeVolPt5p': 0.0,\n",
       " 'avgVolTT20p': 7653185.0,\n",
       " 'lastUpdated': '2021-12-23 18:00',\n",
       " 'totalPtVol5p': 0.0,\n",
       " 'avgPtVal5p': 0.0}"
      ]
     },
     "execution_count": 126,
     "metadata": {},
     "output_type": "execute_result"
    }
   ],
   "source": [
    "ticker = data['data'][0]\n",
    "ticker"
   ]
  },
  {
   "cell_type": "code",
   "execution_count": 133,
   "id": "ec3bb948",
   "metadata": {},
   "outputs": [
    {
     "data": {
      "text/plain": [
       "{'name': ['Truong', 'Thach', 'Binh', 'Yen'], 'age': [28, 24, 25, 22]}"
      ]
     },
     "execution_count": 133,
     "metadata": {},
     "output_type": "execute_result"
    }
   ],
   "source": [
    "dict_1."
   ]
  },
  {
   "cell_type": "code",
   "execution_count": 137,
   "id": "3212070f",
   "metadata": {},
   "outputs": [
    {
     "data": {
      "text/plain": [
       "['Truong', 'Thach', 'Binh', 'Yen']"
      ]
     },
     "execution_count": 137,
     "metadata": {},
     "output_type": "execute_result"
    }
   ],
   "source": [
    "dict_1.get('name', 'UEH')"
   ]
  },
  {
   "cell_type": "code",
   "execution_count": 144,
   "id": "3a65f00b",
   "metadata": {},
   "outputs": [
    {
     "data": {
      "text/plain": [
       "'HCMC'"
      ]
     },
     "execution_count": 144,
     "metadata": {},
     "output_type": "execute_result"
    }
   ],
   "source": [
    "dict_1.setdefault('province', 'HCMC')"
   ]
  },
  {
   "cell_type": "code",
   "execution_count": 145,
   "id": "7acaba85",
   "metadata": {},
   "outputs": [
    {
     "data": {
      "text/plain": [
       "{'name': ['Truong', 'Thach', 'Binh', 'Yen'],\n",
       " 'age': [28, 24, 25, 22],\n",
       " 'university': None,\n",
       " 'province': 'HCMC'}"
      ]
     },
     "execution_count": 145,
     "metadata": {},
     "output_type": "execute_result"
    }
   ],
   "source": [
    "dict_1"
   ]
  },
  {
   "cell_type": "code",
   "execution_count": null,
   "id": "b13bcdb7",
   "metadata": {},
   "outputs": [],
   "source": [
    "name = 'aaabbbccc444fff'\n",
    "output = 'abc4f'"
   ]
  },
  {
   "cell_type": "markdown",
   "id": "f4fcc958",
   "metadata": {},
   "source": [
    "### 4. Progamming Flow"
   ]
  },
  {
   "cell_type": "markdown",
   "id": "dd02dc5c",
   "metadata": {},
   "source": [
    "#### 4.1. Sequence\n"
   ]
  },
  {
   "cell_type": "code",
   "execution_count": 3,
   "id": "c42ae756",
   "metadata": {},
   "outputs": [
    {
     "name": "stdout",
     "output_type": "stream",
     "text": [
      "I'm groot\n",
      "1234\n"
     ]
    }
   ],
   "source": [
    "print('I\\'m groot')\n",
    "print('1234')"
   ]
  },
  {
   "cell_type": "markdown",
   "id": "324fd5bf",
   "metadata": {},
   "source": [
    "#### 4.2. Loop"
   ]
  },
  {
   "cell_type": "markdown",
   "id": "7217c113",
   "metadata": {},
   "source": [
    "```\n",
    "I am groot\n",
    " My name is Truong\n",
    "```"
   ]
  },
  {
   "cell_type": "markdown",
   "id": "c3577c7a",
   "metadata": {},
   "source": [
    "- **For**:\n",
    "```python\n",
    "for item in list:\n",
    "    #business logic    \n",
    "```\n",
    "```python\n",
    "for index in range(len(list)):\n",
    "    #business logic\n",
    "    range(start, stop, step) # stop: exclusive\n",
    "```\n",
    "- **While**:\n",
    "```python\n",
    "while condition: #boolean\n",
    "    # business logic\n",
    "```"
   ]
  },
  {
   "cell_type": "code",
   "execution_count": 8,
   "id": "da25b15c",
   "metadata": {},
   "outputs": [
    {
     "data": {
      "text/plain": [
       "2"
      ]
     },
     "execution_count": 8,
     "metadata": {},
     "output_type": "execute_result"
    }
   ],
   "source": [
    "int(2.9)"
   ]
  },
  {
   "cell_type": "code",
   "execution_count": 9,
   "id": "d00e1b3d",
   "metadata": {},
   "outputs": [
    {
     "data": {
      "text/plain": [
       "2.0"
      ]
     },
     "execution_count": 9,
     "metadata": {},
     "output_type": "execute_result"
    }
   ],
   "source": [
    "float(2)"
   ]
  },
  {
   "cell_type": "code",
   "execution_count": 17,
   "id": "85b3861c",
   "metadata": {},
   "outputs": [
    {
     "data": {
      "text/plain": [
       "[1, 2, 3, 4, 5, 6, 7, 8, 9, 10, 11, 12, 13, 14, 15, 16, 17, 18, 19, 20]"
      ]
     },
     "execution_count": 17,
     "metadata": {},
     "output_type": "execute_result"
    }
   ],
   "source": [
    "# Cast type\n",
    "li = list(range(1, 21))\n",
    "li"
   ]
  },
  {
   "cell_type": "code",
   "execution_count": 25,
   "id": "ee6f1917",
   "metadata": {},
   "outputs": [
    {
     "data": {
      "text/plain": [
       "[1,\n",
       " 4,\n",
       " 9,\n",
       " 16,\n",
       " 25,\n",
       " 36,\n",
       " 49,\n",
       " 64,\n",
       " 81,\n",
       " 100,\n",
       " 121,\n",
       " 144,\n",
       " 169,\n",
       " 196,\n",
       " 225,\n",
       " 256,\n",
       " 289,\n",
       " 324,\n",
       " 361,\n",
       " 400]"
      ]
     },
     "execution_count": 25,
     "metadata": {},
     "output_type": "execute_result"
    }
   ],
   "source": [
    "new_li = [] # mutable\n",
    "for item in li:\n",
    "    new_li.append(item**2)\n",
    "new_li"
   ]
  },
  {
   "cell_type": "code",
   "execution_count": 28,
   "id": "9fc7715e",
   "metadata": {},
   "outputs": [
    {
     "data": {
      "text/plain": [
       "20"
      ]
     },
     "execution_count": 28,
     "metadata": {},
     "output_type": "execute_result"
    }
   ],
   "source": [
    "li[19]"
   ]
  },
  {
   "cell_type": "code",
   "execution_count": 29,
   "id": "b1ea1433",
   "metadata": {},
   "outputs": [
    {
     "data": {
      "text/plain": [
       "[1,\n",
       " 4,\n",
       " 9,\n",
       " 16,\n",
       " 25,\n",
       " 36,\n",
       " 49,\n",
       " 64,\n",
       " 81,\n",
       " 100,\n",
       " 121,\n",
       " 144,\n",
       " 169,\n",
       " 196,\n",
       " 225,\n",
       " 256,\n",
       " 289,\n",
       " 324,\n",
       " 361,\n",
       " 400]"
      ]
     },
     "execution_count": 29,
     "metadata": {},
     "output_type": "execute_result"
    }
   ],
   "source": [
    "new_li_2 = []\n",
    "for i in range(len(li)):\n",
    "    new_li_2.append(li[i]**2)\n",
    "new_li_2"
   ]
  },
  {
   "cell_type": "code",
   "execution_count": 31,
   "id": "1177f93d",
   "metadata": {},
   "outputs": [
    {
     "name": "stdout",
     "output_type": "stream",
     "text": [
      "a > b\n",
      "a > b\n",
      "a > b\n",
      "a > b\n",
      "a > b\n"
     ]
    }
   ],
   "source": [
    "a, b = 5, 0\n",
    "while a > b:\n",
    "    print('a > b')\n",
    "    b += 1"
   ]
  },
  {
   "cell_type": "markdown",
   "id": "bc928b8b",
   "metadata": {},
   "source": [
    "```python\n",
    "while True:\n",
    "    \n",
    "    if win:\n",
    "        break\n",
    "```"
   ]
  },
  {
   "cell_type": "markdown",
   "id": "af6bb1ee",
   "metadata": {},
   "source": [
    "- break: stop loop\n",
    "- continue: ignore current loop"
   ]
  },
  {
   "cell_type": "markdown",
   "id": "2816226c",
   "metadata": {},
   "source": [
    "#### 4.3. Condition"
   ]
  },
  {
   "cell_type": "markdown",
   "id": "1b05b37e",
   "metadata": {},
   "source": [
    "```python\n",
    "if condition:\n",
    "    # business logic\n",
    "elif condition: #optional\n",
    "    # business logic\n",
    "elif condition:\n",
    "    # business logic\n",
    "...\n",
    "else: # optional\n",
    "    # business logic\n",
    "```"
   ]
  },
  {
   "cell_type": "code",
   "execution_count": 34,
   "id": "a3138f26",
   "metadata": {},
   "outputs": [
    {
     "name": "stdout",
     "output_type": "stream",
     "text": [
      "a > b\n"
     ]
    }
   ],
   "source": [
    "a, b = 5, 4\n",
    "if a > b:\n",
    "    print('a > b')\n",
    "elif a < b:\n",
    "    print('a < b')\n",
    "else: \n",
    "    print('a == b')"
   ]
  },
  {
   "cell_type": "code",
   "execution_count": 37,
   "id": "82040ab8",
   "metadata": {},
   "outputs": [
    {
     "data": {
      "text/plain": [
       "5000"
      ]
     },
     "execution_count": 37,
     "metadata": {},
     "output_type": "execute_result"
    }
   ],
   "source": [
    "li = tuple(range(0, 10000, 2))\n",
    "len(li)"
   ]
  },
  {
   "cell_type": "code",
   "execution_count": 41,
   "id": "0ca16a42",
   "metadata": {},
   "outputs": [
    {
     "data": {
      "text/plain": [
       "19998"
      ]
     },
     "execution_count": 41,
     "metadata": {},
     "output_type": "execute_result"
    }
   ],
   "source": [
    "li = tuple(range(2, 20000)) # multiply by 2\n",
    "count = 0\n",
    "for i in li:\n",
    "    count = count+1\n",
    "count"
   ]
  },
  {
   "cell_type": "code",
   "execution_count": 45,
   "id": "ac97acfb",
   "metadata": {},
   "outputs": [
    {
     "name": "stdout",
     "output_type": "stream",
     "text": [
      "2\n"
     ]
    }
   ],
   "source": [
    "li = tuple((3, 4, 10, 5, 7))\n",
    "count = 0\n",
    "\n",
    "for i in li:\n",
    "    if i%2 == 0:\n",
    "        count +=1\n",
    "\n",
    "print(count)"
   ]
  },
  {
   "cell_type": "markdown",
   "id": "c3e27adb",
   "metadata": {},
   "source": [
    "### 6. Function\n",
    "- Buit-in function: print(), len(), abs(), map(), range(), ...\n",
    "- User defined function\n",
    "- Lambda: anonymous function"
   ]
  },
  {
   "cell_type": "markdown",
   "id": "4c496f26",
   "metadata": {},
   "source": [
    "```python\n",
    "def function_name(argument_1, argument_2, ..., **optional):\n",
    "    # business logic\n",
    "    return output_1, output_2 # optional\n",
    "```"
   ]
  },
  {
   "cell_type": "code",
   "execution_count": 55,
   "id": "e37b5b05",
   "metadata": {},
   "outputs": [],
   "source": [
    "def multiple_by_2(li):\n",
    "    \n",
    "    count, new_li = 0, []\n",
    "    for i in li:\n",
    "        if i%2 == 0:\n",
    "            new_li.append(i)\n",
    "            count +=1\n",
    "            \n",
    "    return count, new_li"
   ]
  },
  {
   "cell_type": "code",
   "execution_count": 60,
   "id": "a167251e",
   "metadata": {},
   "outputs": [
    {
     "data": {
      "text/plain": [
       "(6, [0, 2, 4, 6, 1000, 30])"
      ]
     },
     "execution_count": 60,
     "metadata": {},
     "output_type": "execute_result"
    }
   ],
   "source": [
    "multiple_by_2({0, 2, 4, 6, 7, 19, 30, 1000, 501})"
   ]
  },
  {
   "cell_type": "markdown",
   "id": "bae929ef",
   "metadata": {},
   "source": [
    "```python\n",
    "lambda input_1, input_2 : output\n",
    "```"
   ]
  },
  {
   "cell_type": "code",
   "execution_count": 62,
   "id": "da65d35f",
   "metadata": {},
   "outputs": [
    {
     "data": {
      "text/plain": [
       "16"
      ]
     },
     "execution_count": 62,
     "metadata": {},
     "output_type": "execute_result"
    }
   ],
   "source": [
    "squared = lambda x : x**2\n",
    "squared(4)"
   ]
  },
  {
   "cell_type": "code",
   "execution_count": 64,
   "id": "e0f8115d",
   "metadata": {},
   "outputs": [
    {
     "data": {
      "text/plain": [
       "20"
      ]
     },
     "execution_count": 64,
     "metadata": {},
     "output_type": "execute_result"
    }
   ],
   "source": [
    "retangular_squared = lambda x, y : x*y\n",
    "retangular_squared(4, 5)"
   ]
  },
  {
   "cell_type": "code",
   "execution_count": 66,
   "id": "2d88590c",
   "metadata": {},
   "outputs": [
    {
     "data": {
      "text/plain": [
       "53.0"
      ]
     },
     "execution_count": 66,
     "metadata": {},
     "output_type": "execute_result"
    }
   ],
   "source": [
    "li = list(range(0, 107))\n",
    "\n",
    "def average(li):\n",
    "    return summation(li) / count(li)\n",
    "\n",
    "def summation(li):\n",
    "    return summ\n",
    "\n",
    "def count(li):\n",
    "    return count"
   ]
  },
  {
   "cell_type": "code",
   "execution_count": 68,
   "id": "5eb284e3",
   "metadata": {},
   "outputs": [
    {
     "data": {
      "text/plain": [
       "True"
      ]
     },
     "execution_count": 68,
     "metadata": {},
     "output_type": "execute_result"
    }
   ],
   "source": [
    "li = list(range(0, 107))\n",
    "\n",
    "def summation(li):\n",
    "    summ = 0\n",
    "    for i in li:\n",
    "        summ = summ+i\n",
    "    return summ\n",
    "\n",
    "def count(li):\n",
    "    count = 0\n",
    "    for i in li:\n",
    "        count = count+1\n",
    "    return count\n",
    "\n",
    "def average(li):\n",
    "    return summation(li) / count(li)\n",
    "\n",
    "average(li) == sum(li) / len(li)"
   ]
  },
  {
   "cell_type": "markdown",
   "id": "d824f962",
   "metadata": {},
   "source": [
    "### 7. Comprehension\n",
    "- List comprehension\n",
    "- Set comprehension\n",
    "- Iterable comprehension"
   ]
  },
  {
   "cell_type": "code",
   "execution_count": 74,
   "id": "6325d2e1",
   "metadata": {},
   "outputs": [
    {
     "data": {
      "text/plain": [
       "[0, 2, 4, 6, 8]"
      ]
     },
     "execution_count": 74,
     "metadata": {},
     "output_type": "execute_result"
    }
   ],
   "source": [
    "li = list(range(0, 10))\n",
    "[i for i in li if i%2==0]"
   ]
  },
  {
   "cell_type": "code",
   "execution_count": 77,
   "id": "f6cd9053",
   "metadata": {},
   "outputs": [
    {
     "data": {
      "text/plain": [
       "[0, 2, 2, 6, 4, 10, 6, 14, 8, 18]"
      ]
     },
     "execution_count": 77,
     "metadata": {},
     "output_type": "execute_result"
    }
   ],
   "source": [
    "li = list(range(0, 10))\n",
    "[i if i%2 ==0 else i*2 for i in li]"
   ]
  },
  {
   "cell_type": "code",
   "execution_count": 79,
   "id": "b04d685b",
   "metadata": {},
   "outputs": [
    {
     "data": {
      "text/plain": [
       "[1, 2, 3, 1, 2, 3, 2, 2, 6]"
      ]
     },
     "execution_count": 79,
     "metadata": {},
     "output_type": "execute_result"
    }
   ],
   "source": [
    "li = [[-1, -2, -3], [1, 2, 3], [2, -2, 6]]\n",
    "\n",
    "[abs(j) for i in li for j in i]"
   ]
  },
  {
   "cell_type": "code",
   "execution_count": 82,
   "id": "c4bd84e0",
   "metadata": {},
   "outputs": [],
   "source": [
    "def fizz_buzz(number):\n",
    "    if number%3 == 0:\n",
    "        return 'fizz'\n",
    "    elif number%5 == 0:\n",
    "        return 'buzz'\n",
    "    elif number%15 == 0:\n",
    "        return 'fizzbuzz'\n",
    "    else:\n",
    "        return number"
   ]
  },
  {
   "cell_type": "code",
   "execution_count": 93,
   "id": "8b75ef31",
   "metadata": {},
   "outputs": [],
   "source": [
    "def maximum(num_1, num_2):\n",
    "    if num_1 > num_2: return num_1\n",
    "    else: return num_2"
   ]
  },
  {
   "cell_type": "markdown",
   "id": "167c03af",
   "metadata": {},
   "source": [
    "```python\n",
    "def func_name(arg_1, arg_2, *args, **kwargs):\n",
    "    # business logic\n",
    "    return output\n",
    "\n",
    "*args: no limit arguments\n",
    "** kwargs: no limit keyword arguments (dictionary)\n",
    "```\n"
   ]
  },
  {
   "cell_type": "code",
   "execution_count": 99,
   "id": "ff292457",
   "metadata": {},
   "outputs": [],
   "source": [
    "def maximum(*args):\n",
    "    maxi = args[0]\n",
    "    for i in args[1:]:\n",
    "        if maxi < i:\n",
    "            maxi = i\n",
    "    return maxi"
   ]
  },
  {
   "cell_type": "code",
   "execution_count": 101,
   "id": "907ef187",
   "metadata": {},
   "outputs": [
    {
     "data": {
      "text/plain": [
       "543"
      ]
     },
     "execution_count": 101,
     "metadata": {},
     "output_type": "execute_result"
    }
   ],
   "source": [
    "maximum(1, 2, 3, 4, 4, 5, 6, 34, 543)"
   ]
  },
  {
   "cell_type": "code",
   "execution_count": 106,
   "id": "c689d03f",
   "metadata": {},
   "outputs": [],
   "source": [
    "def test_fun(**kwargs):\n",
    "    print(f'Hello {kwargs[\"name\"]}')"
   ]
  },
  {
   "cell_type": "code",
   "execution_count": 108,
   "id": "b700127d",
   "metadata": {},
   "outputs": [
    {
     "name": "stdout",
     "output_type": "stream",
     "text": [
      "Hello ['Truong', 'Nam']\n"
     ]
    }
   ],
   "source": [
    "test_fun(**{'name': ['Truong', 'Nam']})"
   ]
  },
  {
   "cell_type": "code",
   "execution_count": 112,
   "id": "74caebaa",
   "metadata": {},
   "outputs": [],
   "source": [
    "def show_star(rows):\n",
    "    for i in range(1, rows+1):\n",
    "        print('*'*i)"
   ]
  },
  {
   "cell_type": "code",
   "execution_count": 113,
   "id": "5870aa4f",
   "metadata": {},
   "outputs": [
    {
     "name": "stdout",
     "output_type": "stream",
     "text": [
      "*\n",
      "**\n",
      "***\n",
      "****\n",
      "*****\n"
     ]
    }
   ],
   "source": [
    "show_star(5)"
   ]
  },
  {
   "cell_type": "code",
   "execution_count": 117,
   "id": "d33079b3",
   "metadata": {},
   "outputs": [],
   "source": [
    "def show_stars(row):\n",
    "    for i in (1, row + 1):\n",
    "        string = ''\n",
    "        for j in range (1, i):\n",
    "            string += '*'\n",
    "            print(string)"
   ]
  },
  {
   "cell_type": "code",
   "execution_count": 119,
   "id": "ca3ab2cf",
   "metadata": {},
   "outputs": [
    {
     "name": "stdout",
     "output_type": "stream",
     "text": [
      "*\n",
      "**\n",
      "***\n",
      "****\n",
      "*****\n",
      "******\n",
      "*******\n",
      "********\n",
      "*********\n",
      "**********\n"
     ]
    }
   ],
   "source": [
    "show_stars(10)"
   ]
  },
  {
   "cell_type": "code",
   "execution_count": null,
   "id": "132aeb68",
   "metadata": {},
   "outputs": [],
   "source": []
  }
 ],
 "metadata": {
  "kernelspec": {
   "display_name": "Python 3 (ipykernel)",
   "language": "python",
   "name": "python3"
  },
  "language_info": {
   "codemirror_mode": {
    "name": "ipython",
    "version": 3
   },
   "file_extension": ".py",
   "mimetype": "text/x-python",
   "name": "python",
   "nbconvert_exporter": "python",
   "pygments_lexer": "ipython3",
   "version": "3.9.7"
  }
 },
 "nbformat": 4,
 "nbformat_minor": 5
}
