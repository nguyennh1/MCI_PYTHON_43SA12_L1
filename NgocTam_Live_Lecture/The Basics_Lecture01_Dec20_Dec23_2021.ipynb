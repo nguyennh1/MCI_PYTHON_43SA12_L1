{
 "cells": [
  {
   "cell_type": "code",
   "execution_count": 2,
   "id": "cddfc584-ba76-47c0-8d39-b684f659985a",
   "metadata": {},
   "outputs": [
    {
     "name": "stdout",
     "output_type": "stream",
     "text": [
      "Hello World!\n"
     ]
    }
   ],
   "source": [
    "print (\"Hello World!\")"
   ]
  },
  {
   "cell_type": "code",
   "execution_count": 8,
   "id": "5b424e97-7eef-4393-8948-9c800944fa3e",
   "metadata": {},
   "outputs": [
    {
     "data": {
      "text/plain": [
       "2"
      ]
     },
     "execution_count": 8,
     "metadata": {},
     "output_type": "execute_result"
    }
   ],
   "source": [
    "1+1"
   ]
  },
  {
   "cell_type": "markdown",
   "id": "ff578c39-3c04-4f5b-a7ce-003eeb99cbf2",
   "metadata": {
    "tags": []
   },
   "source": [
    "#### Heading size reduced by more # in front of a tect inside markdown cell"
   ]
  },
  {
   "cell_type": "markdown",
   "id": "c4cb61b8-9b20-411d-bb8a-5f45f71b03db",
   "metadata": {},
   "source": [
    "*BOLD"
   ]
  },
  {
   "cell_type": "markdown",
   "id": "34f86634-01f8-4cba-bbe1-9e9cb66fcc27",
   "metadata": {},
   "source": [
    "*** Cach Chen Hinh Anh"
   ]
  },
  {
   "cell_type": "markdown",
   "id": "734918d5-20bb-436d-a416-28145024dcc7",
   "metadata": {},
   "source": [
    "![](https://th.bing.com/th/id/OIP.yPPnjD1OLTyINH7lU1QiAQAAAA?pid=ImgDet&rs=1)"
   ]
  },
  {
   "cell_type": "markdown",
   "id": "b3a588ae-585a-4ab6-95c4-5203c50f1094",
   "metadata": {},
   "source": [
    "*Italic*"
   ]
  },
  {
   "cell_type": "code",
   "execution_count": 13,
   "id": "7be99730-a837-4955-aff6-8462868c11c8",
   "metadata": {},
   "outputs": [
    {
     "data": {
      "text/plain": [
       "0.6666666666666666"
      ]
     },
     "execution_count": 13,
     "metadata": {},
     "output_type": "execute_result"
    }
   ],
   "source": [
    "2/3"
   ]
  },
  {
   "cell_type": "code",
   "execution_count": 15,
   "id": "98f18ac2-fedf-46f5-8b8a-75b26ac202bf",
   "metadata": {},
   "outputs": [
    {
     "data": {
      "text/plain": [
       "42"
      ]
     },
     "execution_count": 15,
     "metadata": {},
     "output_type": "execute_result"
    }
   ],
   "source": [
    "(1+5)*7"
   ]
  },
  {
   "cell_type": "code",
   "execution_count": 16,
   "id": "9063ea92-a76d-4d1b-a927-5d0ca4840adc",
   "metadata": {},
   "outputs": [],
   "source": [
    "#THIS IS A COMMENT - NO CODE RUNNING"
   ]
  },
  {
   "cell_type": "code",
   "execution_count": 24,
   "id": "5bdc952d-1902-4599-b210-525e7085ad90",
   "metadata": {},
   "outputs": [],
   "source": [
    "#MODULE 11%3(CHIA LAY NGUYEN)"
   ]
  },
  {
   "cell_type": "code",
   "execution_count": 23,
   "id": "1b4e1b74-e584-4c30-8430-9e6865114bc3",
   "metadata": {},
   "outputs": [
    {
     "data": {
      "text/plain": [
       "2"
      ]
     },
     "execution_count": 23,
     "metadata": {},
     "output_type": "execute_result"
    }
   ],
   "source": [
    "11%3"
   ]
  },
  {
   "cell_type": "code",
   "execution_count": 21,
   "id": "52798e0f-c9a6-4d71-8730-f2d247b2f16f",
   "metadata": {},
   "outputs": [],
   "source": [
    "#FLOOR DIVISION 11//3"
   ]
  },
  {
   "cell_type": "code",
   "execution_count": 22,
   "id": "713585a5-9f9a-49b2-8c79-b1d29bca5d65",
   "metadata": {},
   "outputs": [
    {
     "data": {
      "text/plain": [
       "3"
      ]
     },
     "execution_count": 22,
     "metadata": {},
     "output_type": "execute_result"
    }
   ],
   "source": [
    "11//3"
   ]
  },
  {
   "cell_type": "code",
   "execution_count": 25,
   "id": "385e09ea-2ccc-4ac4-8c51-39c4e1be950f",
   "metadata": {},
   "outputs": [
    {
     "data": {
      "text/plain": [
       "8"
      ]
     },
     "execution_count": 25,
     "metadata": {},
     "output_type": "execute_result"
    }
   ],
   "source": [
    "2**3"
   ]
  },
  {
   "cell_type": "code",
   "execution_count": 26,
   "id": "e0879746-c5db-4768-8f9c-513f1c594909",
   "metadata": {},
   "outputs": [
    {
     "data": {
      "text/plain": [
       "3.0"
      ]
     },
     "execution_count": 26,
     "metadata": {},
     "output_type": "execute_result"
    }
   ],
   "source": [
    "9**(1/2)"
   ]
  },
  {
   "cell_type": "code",
   "execution_count": 31,
   "id": "880ed060-8710-44dc-a3fc-ca43f1880d38",
   "metadata": {},
   "outputs": [
    {
     "data": {
      "text/plain": [
       "3"
      ]
     },
     "execution_count": 31,
     "metadata": {},
     "output_type": "execute_result"
    }
   ],
   "source": [
    "6^5"
   ]
  },
  {
   "cell_type": "code",
   "execution_count": 2,
   "id": "8589993f-796f-4341-86ab-28fa071ea2c2",
   "metadata": {
    "tags": []
   },
   "outputs": [],
   "source": [
    "import numpy as np"
   ]
  },
  {
   "cell_type": "code",
   "execution_count": 36,
   "id": "9d764e77-55f0-451d-9685-4d41a0bf6b7c",
   "metadata": {},
   "outputs": [
    {
     "data": {
      "text/plain": [
       "2.5"
      ]
     },
     "execution_count": 36,
     "metadata": {},
     "output_type": "execute_result"
    }
   ],
   "source": [
    "round (5/2,1)"
   ]
  },
  {
   "cell_type": "markdown",
   "id": "5ed3cd33-acac-4fec-a341-0290414f6aa2",
   "metadata": {},
   "source": [
    "## 2.0 Data Type\n",
    "Programming = Data Structure + Algorithm\n",
    "- Data Structure: What computer understand; combine of 1 or many data types\n",
    "- Algorithm: What computer do"
   ]
  },
  {
   "cell_type": "markdown",
   "id": "e9ccbcab-ea06-4047-bb57-bdceaae4efce",
   "metadata": {},
   "source": [
    "Data types:\n",
    "- Nummeric (integer, float, complex)\n",
    "- strings: \"\"/ ''\n",
    "- Boolean: True / False\n",
    "- None Type\n"
   ]
  },
  {
   "cell_type": "code",
   "execution_count": 40,
   "id": "e18b7410-3894-4451-949d-b5ab2cbf7765",
   "metadata": {},
   "outputs": [
    {
     "data": {
      "text/plain": [
       "float"
      ]
     },
     "execution_count": 40,
     "metadata": {},
     "output_type": "execute_result"
    }
   ],
   "source": [
    "type (1.24)"
   ]
  },
  {
   "cell_type": "markdown",
   "id": "86053ee2-f8d4-4877-870c-d162dd035bde",
   "metadata": {},
   "source": [
    "2 Types of Functions:\n",
    "- Built-in function\n",
    "- UDF (user define function)"
   ]
  },
  {
   "cell_type": "code",
   "execution_count": 42,
   "id": "70470696-b124-4c11-a986-797691e96718",
   "metadata": {},
   "outputs": [
    {
     "data": {
      "text/plain": [
       "True"
      ]
     },
     "execution_count": 42,
     "metadata": {},
     "output_type": "execute_result"
    }
   ],
   "source": [
    "4==4"
   ]
  },
  {
   "cell_type": "code",
   "execution_count": 7,
   "id": "c1505cd8-3406-4a30-ba6c-6317520a61db",
   "metadata": {},
   "outputs": [],
   "source": [
    "import numpy as np"
   ]
  },
  {
   "cell_type": "code",
   "execution_count": 4,
   "id": "a8043489-be11-4c86-bf6c-27db1f8d0a03",
   "metadata": {},
   "outputs": [],
   "source": [
    "import numpy as np"
   ]
  },
  {
   "cell_type": "code",
   "execution_count": 45,
   "id": "b28b1afd-db6b-4150-ab96-1a5484c9779a",
   "metadata": {},
   "outputs": [
    {
     "name": "stdout",
     "output_type": "stream",
     "text": [
      "Hello Tam Nguyen\n"
     ]
    }
   ],
   "source": [
    "First_name = \"Tam\"\n",
    "Last_name= \"Nguyen\"\n",
    "print (f\"Hello {First_name} {Last_name}\")"
   ]
  },
  {
   "cell_type": "code",
   "execution_count": 49,
   "id": "744c5495-62f9-4044-957e-b9d4c2ef296d",
   "metadata": {},
   "outputs": [
    {
     "name": "stdout",
     "output_type": "stream",
     "text": [
      "Hello Tam Nguyen\n"
     ]
    }
   ],
   "source": [
    "First_name = \"Tam\"\n",
    "Last_name= \"Nguyen\"\n",
    "print (\"Hello {} {}\".format (First_name,Last_name))"
   ]
  },
  {
   "cell_type": "code",
   "execution_count": 2,
   "id": "545e716e-a6fc-4d22-88d2-ea44dc7a65bd",
   "metadata": {},
   "outputs": [],
   "source": [
    "import numpy as np"
   ]
  },
  {
   "cell_type": "code",
   "execution_count": 3,
   "id": "416dc993-d8ff-4b40-af5b-868bbeb1449a",
   "metadata": {},
   "outputs": [],
   "source": [
    "import pandas as pd"
   ]
  },
  {
   "cell_type": "markdown",
   "id": "13e9fff6-e587-4edb-bd87-8547689a538b",
   "metadata": {},
   "source": [
    "### 03. Data Structure\n",
    "- List\n",
    "- Tuple\n",
    "- Set\n",
    "- Dictionary"
   ]
  },
  {
   "cell_type": "markdown",
   "id": "27f3d4fd-062f-45e2-a239-6c8d8b38d820",
   "metadata": {},
   "source": [
    "#### 3.1 List\n",
    "- [],list ()\n",
    "- 2 components: Index (order of the value), and Value (values in the list)"
   ]
  },
  {
   "cell_type": "code",
   "execution_count": 8,
   "id": "27d9d08d-9f9c-459f-9abb-04427e3f0d68",
   "metadata": {},
   "outputs": [],
   "source": [
    "li = [1,2,3,\"true\", \"buon\",\"vui\"]"
   ]
  },
  {
   "cell_type": "code",
   "execution_count": 22,
   "id": "6a7e08c4-dba1-4b51-84d5-19f990fa404a",
   "metadata": {},
   "outputs": [
    {
     "data": {
      "text/plain": [
       "['append',\n",
       " 'clear',\n",
       " 'copy',\n",
       " 'count',\n",
       " 'extend',\n",
       " 'index',\n",
       " 'insert',\n",
       " 'pop',\n",
       " 'remove',\n",
       " 'reverse',\n",
       " 'sort']"
      ]
     },
     "execution_count": 22,
     "metadata": {},
     "output_type": "execute_result"
    }
   ],
   "source": [
    "[method for method in dir(li) if not method.startswith(\"_\")]"
   ]
  },
  {
   "cell_type": "markdown",
   "id": "c203a7b8-61ad-4405-b84f-153e4b6d3814",
   "metadata": {},
   "source": []
  },
  {
   "cell_type": "code",
   "execution_count": 23,
   "id": "d70e26ce-7246-4fcb-8c18-f0e5f1401e68",
   "metadata": {},
   "outputs": [
    {
     "data": {
      "text/plain": [
       "[1, 2, 3, 'true', 'buon', 'vui']"
      ]
     },
     "execution_count": 23,
     "metadata": {},
     "output_type": "execute_result"
    }
   ],
   "source": [
    "li"
   ]
  },
  {
   "cell_type": "markdown",
   "id": "5c27ed14-8b46-49f6-b877-9b589b60d8c9",
   "metadata": {},
   "source": [
    "index 0 is value 1; index 3 is value True; index 4 is value buon"
   ]
  },
  {
   "cell_type": "code",
   "execution_count": 26,
   "id": "0e0ac4c9-b77c-4087-9272-613d29f0b16a",
   "metadata": {},
   "outputs": [
    {
     "data": {
      "text/plain": [
       "'true'"
      ]
     },
     "execution_count": 26,
     "metadata": {},
     "output_type": "execute_result"
    }
   ],
   "source": [
    "#Return the value of a specific index \n",
    "li[3]"
   ]
  },
  {
   "cell_type": "code",
   "execution_count": 29,
   "id": "3278b3fc-27e5-47e4-a42c-9226b89f1814",
   "metadata": {},
   "outputs": [
    {
     "data": {
      "text/plain": [
       "[1, 2, 3, 'true']"
      ]
     },
     "execution_count": 29,
     "metadata": {},
     "output_type": "execute_result"
    }
   ],
   "source": [
    "#Return many values of a specific indexes; Start: inclusive and end: exclusive \n",
    "li[0:4]"
   ]
  },
  {
   "cell_type": "code",
   "execution_count": 30,
   "id": "ca1f5454-7c7f-47ba-b247-122a63254ef9",
   "metadata": {},
   "outputs": [
    {
     "data": {
      "text/plain": [
       "[1, 2, 3, 'true', 'buon', 'vui']"
      ]
     },
     "execution_count": 30,
     "metadata": {},
     "output_type": "execute_result"
    }
   ],
   "source": [
    "#Return all values of a specific indexes; Start: inclusive and end: exclusive \n",
    "li[:]"
   ]
  },
  {
   "cell_type": "code",
   "execution_count": 37,
   "id": "69c60bfe-08f8-4112-99e2-559743a319a6",
   "metadata": {},
   "outputs": [
    {
     "data": {
      "text/plain": [
       "[1, 3, 'buon']"
      ]
     },
     "execution_count": 37,
     "metadata": {},
     "output_type": "execute_result"
    }
   ],
   "source": [
    "#Return all values of a specific indexes; li[Start:Stop:Step]\n",
    "li[::2]"
   ]
  },
  {
   "cell_type": "code",
   "execution_count": 47,
   "id": "b63697b5-79f3-4489-89ea-fd1aae536400",
   "metadata": {},
   "outputs": [
    {
     "data": {
      "text/plain": [
       "[3, 'true', 'buon']"
      ]
     },
     "execution_count": 47,
     "metadata": {},
     "output_type": "execute_result"
    }
   ],
   "source": [
    "li[2:-1]\n"
   ]
  },
  {
   "cell_type": "code",
   "execution_count": 53,
   "id": "1a1e3326-0f03-4773-a09d-9cbef00b7a28",
   "metadata": {},
   "outputs": [
    {
     "data": {
      "text/plain": [
       "[3, 'true', 'buon']"
      ]
     },
     "execution_count": 53,
     "metadata": {},
     "output_type": "execute_result"
    }
   ],
   "source": [
    "li[2:len(li)-1]"
   ]
  },
  {
   "cell_type": "code",
   "execution_count": 59,
   "id": "04e7e183-07b7-4deb-9502-16716119dafc",
   "metadata": {},
   "outputs": [
    {
     "data": {
      "text/plain": [
       "13"
      ]
     },
     "execution_count": 59,
     "metadata": {},
     "output_type": "execute_result"
    }
   ],
   "source": [
    "li[0]+li[2]"
   ]
  },
  {
   "cell_type": "code",
   "execution_count": 60,
   "id": "c9cea8b4-8ba1-4967-a967-a27037063268",
   "metadata": {},
   "outputs": [
    {
     "data": {
      "text/plain": [
       "[10, 10, 3, 'true', 'buon', 'vui']"
      ]
     },
     "execution_count": 60,
     "metadata": {},
     "output_type": "execute_result"
    }
   ],
   "source": [
    "li[1]=10\n",
    "li\n"
   ]
  },
  {
   "cell_type": "code",
   "execution_count": 69,
   "id": "abda7a1f-04bd-40d4-b78a-7ad1d18bcbb4",
   "metadata": {},
   "outputs": [
    {
     "data": {
      "text/plain": [
       "[10, 10, 3, 0, 3, 2]"
      ]
     },
     "execution_count": 69,
     "metadata": {},
     "output_type": "execute_result"
    }
   ],
   "source": [
    "li[3::2]=[0,2]\n",
    "li"
   ]
  },
  {
   "cell_type": "code",
   "execution_count": 70,
   "id": "96dd8b78-16fe-4489-b0ac-8b6b378c7e3b",
   "metadata": {},
   "outputs": [],
   "source": [
    "#CRUD: Create, REplace, Update, Delete\n",
    "del li[-1]"
   ]
  },
  {
   "cell_type": "code",
   "execution_count": 82,
   "id": "971e0487-f168-479d-a0e3-575f827a900d",
   "metadata": {},
   "outputs": [],
   "source": [
    "li=[\"buon\",\"vui\",\"xui\",\"tinh\",3,4]"
   ]
  },
  {
   "cell_type": "code",
   "execution_count": 2,
   "id": "5d7925e8-8063-45e8-a10b-571823d752b1",
   "metadata": {},
   "outputs": [
    {
     "ename": "NameError",
     "evalue": "name 'li' is not defined",
     "output_type": "error",
     "traceback": [
      "\u001b[1;31m---------------------------------------------------------------------------\u001b[0m",
      "\u001b[1;31mNameError\u001b[0m                                 Traceback (most recent call last)",
      "\u001b[1;32mC:\\Users\\NGUYEN~1.TAM\\AppData\\Local\\Temp/ipykernel_17456/1804444470.py\u001b[0m in \u001b[0;36m<module>\u001b[1;34m\u001b[0m\n\u001b[1;32m----> 1\u001b[1;33m \u001b[1;32mdel\u001b[0m \u001b[0mli\u001b[0m\u001b[1;33m[\u001b[0m\u001b[1;33m-\u001b[0m\u001b[1;36m1\u001b[0m\u001b[1;33m]\u001b[0m\u001b[1;33m\u001b[0m\u001b[0m\n\u001b[0m\u001b[0;32m      2\u001b[0m \u001b[0mli\u001b[0m\u001b[1;33m\u001b[0m\u001b[0m\n",
      "\u001b[1;31mNameError\u001b[0m: name 'li' is not defined"
     ]
    }
   ],
   "source": [
    "del li[-1]\n",
    "li"
   ]
  },
  {
   "cell_type": "code",
   "execution_count": 3,
   "id": "82357050-2582-4bc2-b288-8b5603cc4bd7",
   "metadata": {},
   "outputs": [],
   "source": [
    "li=[\"buon\",\"vui\",\"xui\",\"tinh\",3,4]"
   ]
  },
  {
   "cell_type": "code",
   "execution_count": 11,
   "id": "af512525-22cb-45bc-a679-a1d2c97309f2",
   "metadata": {},
   "outputs": [
    {
     "data": {
      "text/plain": [
       "['buon', 'vui', 'xui', 'tinh', 3, 4, 10, 10, 10, 10, 10]"
      ]
     },
     "execution_count": 11,
     "metadata": {},
     "output_type": "execute_result"
    }
   ],
   "source": [
    "li.append(10)\n",
    "li"
   ]
  },
  {
   "cell_type": "code",
   "execution_count": 18,
   "id": "2482b45c-99fa-438a-b5d5-a3f5bcf5e16b",
   "metadata": {},
   "outputs": [
    {
     "data": {
      "text/plain": [
       "['buon', 'vui', 'xui', 'tinh', 3, 10, 10, 10]"
      ]
     },
     "execution_count": 18,
     "metadata": {},
     "output_type": "execute_result"
    }
   ],
   "source": [
    "li.pop(-4)\n",
    "li"
   ]
  },
  {
   "cell_type": "code",
   "execution_count": 19,
   "id": "21bc8ceb-58e7-4811-acaa-1957439630ef",
   "metadata": {},
   "outputs": [
    {
     "data": {
      "text/plain": [
       "['buon', 'vui', 'xui', 'tinh', 10, 10, 10]"
      ]
     },
     "execution_count": 19,
     "metadata": {},
     "output_type": "execute_result"
    }
   ],
   "source": [
    "li.pop(-4)\n",
    "li"
   ]
  },
  {
   "cell_type": "code",
   "execution_count": 21,
   "id": "0f3b7f4b-cf0b-4a35-817d-8b6caf1f3c61",
   "metadata": {},
   "outputs": [
    {
     "data": {
      "text/plain": [
       "['buon', 'vui', 'xui', 'tinh', 10, 10]"
      ]
     },
     "execution_count": 21,
     "metadata": {},
     "output_type": "execute_result"
    }
   ],
   "source": [
    "li.remove(10)\n",
    "li"
   ]
  },
  {
   "cell_type": "code",
   "execution_count": 25,
   "id": "9eb6f7dd-7062-40b7-b0ad-c81d17a96a51",
   "metadata": {},
   "outputs": [
    {
     "data": {
      "text/plain": [
       "['buon', 'vui', 'xui', 'tinh', 10, 10, 1, 2, 3, 4, 1, 2, 3, 4]"
      ]
     },
     "execution_count": 25,
     "metadata": {},
     "output_type": "execute_result"
    }
   ],
   "source": [
    "li.extend([1,2,3,4])\n",
    "li"
   ]
  },
  {
   "cell_type": "code",
   "execution_count": 28,
   "id": "059e39c9-f299-4dbf-b150-ec42d291a481",
   "metadata": {},
   "outputs": [
    {
     "data": {
      "text/plain": [
       "['buon', 'vui', 'dzui', 'xui', 'tinh', 10, 10, 1, 2, 3, 4, 1, 2, 3, 4]"
      ]
     },
     "execution_count": 28,
     "metadata": {},
     "output_type": "execute_result"
    }
   ],
   "source": [
    "li.insert(2,\"dzui\")\n",
    "li"
   ]
  },
  {
   "cell_type": "code",
   "execution_count": 29,
   "id": "009a0f56-a6f5-4c7c-b581-77d962043bca",
   "metadata": {},
   "outputs": [],
   "source": [
    "li_1 = [4,5,6,7]"
   ]
  },
  {
   "cell_type": "code",
   "execution_count": 30,
   "id": "6ceff922-7160-431e-ba13-587d7d786d4f",
   "metadata": {},
   "outputs": [
    {
     "data": {
      "text/plain": [
       "['buon',\n",
       " 'vui',\n",
       " 'dzui',\n",
       " 'xui',\n",
       " 'tinh',\n",
       " 10,\n",
       " 10,\n",
       " 1,\n",
       " 2,\n",
       " 3,\n",
       " 4,\n",
       " 1,\n",
       " 2,\n",
       " 3,\n",
       " 4,\n",
       " [4, 5, 6, 7]]"
      ]
     },
     "execution_count": 30,
     "metadata": {},
     "output_type": "execute_result"
    }
   ],
   "source": [
    "li.append(li_1)\n",
    "li"
   ]
  },
  {
   "cell_type": "code",
   "execution_count": 31,
   "id": "000d3848-8d81-4225-a813-2d4ad71ded32",
   "metadata": {},
   "outputs": [
    {
     "data": {
      "text/plain": [
       "6"
      ]
     },
     "execution_count": 31,
     "metadata": {},
     "output_type": "execute_result"
    }
   ],
   "source": [
    "li[-1][-2]"
   ]
  },
  {
   "cell_type": "markdown",
   "id": "37541f50-a0e7-45f5-82ea-08e11ed2ed55",
   "metadata": {},
   "source": [
    "##### 3.2 Tuple\n",
    "- (), tuple\n",
    "- index, value\n",
    "- immutable (cannot change the value of the same ID)"
   ]
  },
  {
   "cell_type": "code",
   "execution_count": 36,
   "id": "5b868ff3-78eb-4eba-98c6-c7bdcfe735a1",
   "metadata": {},
   "outputs": [],
   "source": [
    "tu=(1,2,3,\"test\",\"lov\")"
   ]
  },
  {
   "cell_type": "code",
   "execution_count": 37,
   "id": "db93431f-bc56-4c77-999d-9acf0a9b56af",
   "metadata": {},
   "outputs": [
    {
     "data": {
      "text/plain": [
       "(1, 2, 3, 'test', 'lov')"
      ]
     },
     "execution_count": 37,
     "metadata": {},
     "output_type": "execute_result"
    }
   ],
   "source": [
    "tu"
   ]
  },
  {
   "cell_type": "markdown",
   "id": "8f8c94f4-8a45-4010-8dcd-d17099f13007",
   "metadata": {},
   "source": [
    "##### 3.3 Set\n",
    "- {}, set()\n",
    "- Have no index --> no order\n",
    "- No duplicate value"
   ]
  },
  {
   "cell_type": "code",
   "execution_count": 40,
   "id": "dfa98d9c-b20c-494f-bad4-9bb53ce03d4d",
   "metadata": {},
   "outputs": [
    {
     "data": {
      "text/plain": [
       "{1, 2, 3, 4, 5, 6, 7}"
      ]
     },
     "execution_count": 40,
     "metadata": {},
     "output_type": "execute_result"
    }
   ],
   "source": [
    "set_1 = {1,2,3,3,4,5,6,7}\n",
    "set_1\n"
   ]
  },
  {
   "cell_type": "code",
   "execution_count": 41,
   "id": "9ad2ff20-a1b0-4643-a0c2-d0b24ac488d8",
   "metadata": {},
   "outputs": [
    {
     "data": {
      "text/plain": [
       "{1, 2, 4, 5, 6, 7, 8, 9}"
      ]
     },
     "execution_count": 41,
     "metadata": {},
     "output_type": "execute_result"
    }
   ],
   "source": [
    "set_2 = {1,4,5,6,7,2,8,9,9}\n",
    "set_2"
   ]
  },
  {
   "cell_type": "code",
   "execution_count": 42,
   "id": "ece05b4d-5b49-4f18-a328-73d62b870bc3",
   "metadata": {},
   "outputs": [
    {
     "data": {
      "text/plain": [
       "{1, 2, 3, 4, 5, 6, 7}"
      ]
     },
     "execution_count": 42,
     "metadata": {},
     "output_type": "execute_result"
    }
   ],
   "source": [
    "set_1.union(set_2)\n",
    "set_1"
   ]
  },
  {
   "cell_type": "code",
   "execution_count": 43,
   "id": "2163ba3f-479f-4dad-aab0-40df8b1e2edb",
   "metadata": {},
   "outputs": [
    {
     "data": {
      "text/plain": [
       "{1, 2, 4, 5, 6, 7}"
      ]
     },
     "execution_count": 43,
     "metadata": {},
     "output_type": "execute_result"
    }
   ],
   "source": [
    "set_1.intersection(set_2)"
   ]
  },
  {
   "cell_type": "code",
   "execution_count": 45,
   "id": "03c8af94-1116-480c-882b-9999c05abf52",
   "metadata": {},
   "outputs": [
    {
     "data": {
      "text/plain": [
       "{1, 2, 3, 4, 5, 6, 7, 8, 9}"
      ]
     },
     "execution_count": 45,
     "metadata": {},
     "output_type": "execute_result"
    }
   ],
   "source": [
    "set_1.update(set_2)\n",
    "set_1"
   ]
  },
  {
   "cell_type": "code",
   "execution_count": 46,
   "id": "60539ed8-8f49-450f-a9a6-c36425cd76b7",
   "metadata": {},
   "outputs": [
    {
     "data": {
      "text/plain": [
       "True"
      ]
     },
     "execution_count": 46,
     "metadata": {},
     "output_type": "execute_result"
    }
   ],
   "source": [
    "set_1.issuperset(set_2)"
   ]
  },
  {
   "cell_type": "code",
   "execution_count": 47,
   "id": "27ab2286-d5cf-4199-9119-6a2f88e084be",
   "metadata": {},
   "outputs": [
    {
     "data": {
      "text/plain": [
       "False"
      ]
     },
     "execution_count": 47,
     "metadata": {},
     "output_type": "execute_result"
    }
   ],
   "source": [
    "set_1.issubset(set_2)"
   ]
  },
  {
   "cell_type": "markdown",
   "id": "07c449ee-afbc-4f12-ae64-55a7ffb6d4de",
   "metadata": {},
   "source": [
    "##### 3.4 Dictionary\n",
    "- {key:value} or dict() Manage value by key\n",
    "- key: no duplicated, value is duplicable\n"
   ]
  },
  {
   "cell_type": "code",
   "execution_count": 50,
   "id": "5552ad25-8dbc-4998-b7c5-4d606090f410",
   "metadata": {},
   "outputs": [
    {
     "data": {
      "text/plain": [
       "{'name': ['Tam', 'luong', 'tram', 'nhan'], 'age': [30, 25, 37, 36]}"
      ]
     },
     "execution_count": 50,
     "metadata": {},
     "output_type": "execute_result"
    }
   ],
   "source": [
    "dict_1 = {'name':[\"Tam\",\"luong\",\"tram\",\"nhan\"],\n",
    "         'age':[30,25,37,36]}\n",
    "dict_1"
   ]
  },
  {
   "cell_type": "code",
   "execution_count": 51,
   "id": "10fa51fe-63fa-45c7-8aa7-d665e92b75b2",
   "metadata": {},
   "outputs": [
    {
     "data": {
      "text/plain": [
       "{'name': ['Ta', 'luo', 'tra', 'nha'], 'age': (31, 26, 38, 37)}"
      ]
     },
     "execution_count": 51,
     "metadata": {},
     "output_type": "execute_result"
    }
   ],
   "source": [
    "dict_2 = {'name':[\"Ta\",\"luo\",\"tra\",\"nha\"],\n",
    "         'age':(31,26,38,37)}\n",
    "dict_2"
   ]
  },
  {
   "cell_type": "code",
   "execution_count": 55,
   "id": "8c82d0f0-0079-4d6f-a529-26ba763114a0",
   "metadata": {},
   "outputs": [
    {
     "data": {
      "text/plain": [
       "['Ta', 'luo', 'tra', 'nha']"
      ]
     },
     "execution_count": 55,
     "metadata": {},
     "output_type": "execute_result"
    }
   ],
   "source": [
    "dict_2['name']"
   ]
  },
  {
   "cell_type": "code",
   "execution_count": 56,
   "id": "4e0e06ec-7a42-49d1-9486-8b85bc825001",
   "metadata": {},
   "outputs": [
    {
     "data": {
      "text/plain": [
       "'tra'"
      ]
     },
     "execution_count": 56,
     "metadata": {},
     "output_type": "execute_result"
    }
   ],
   "source": [
    "dict_2['name'][-2]"
   ]
  },
  {
   "cell_type": "code",
   "execution_count": 60,
   "id": "4cebc919-ddb0-4d10-ba74-86a6acc3dfaa",
   "metadata": {},
   "outputs": [
    {
     "data": {
      "text/plain": [
       "{'name': ['Ta', 'luo'], 'age': (31, 26, 38, 37)}"
      ]
     },
     "execution_count": 60,
     "metadata": {},
     "output_type": "execute_result"
    }
   ],
   "source": [
    "dict_2['name'].pop(-1)\n",
    "dict_2"
   ]
  },
  {
   "cell_type": "code",
   "execution_count": 67,
   "id": "176332fc-0d83-4659-ab88-620b81fa6bdb",
   "metadata": {},
   "outputs": [
    {
     "data": {
      "text/plain": [
       "'University'"
      ]
     },
     "execution_count": 67,
     "metadata": {},
     "output_type": "execute_result"
    }
   ],
   "source": [
    "dict_2.get('namE',\"UHE\")"
   ]
  },
  {
   "cell_type": "code",
   "execution_count": 66,
   "id": "4c6a3088-81d2-4956-ae65-cdebe9434101",
   "metadata": {},
   "outputs": [
    {
     "data": {
      "text/plain": [
       "{'name': ['Ta', 'luo'], 'age': (31, 26, 38, 37), 'namE': 'University'}"
      ]
     },
     "execution_count": 66,
     "metadata": {},
     "output_type": "execute_result"
    }
   ],
   "source": [
    "dict_2.setdefault('namE',\"University\")\n",
    "dict_2"
   ]
  },
  {
   "cell_type": "code",
   "execution_count": null,
   "id": "4a34ee56-7a75-4d45-a766-96c5260d06a4",
   "metadata": {},
   "outputs": [],
   "source": []
  }
 ],
 "metadata": {
  "kernelspec": {
   "display_name": "Python 3 (ipykernel)",
   "language": "python",
   "name": "python3"
  },
  "language_info": {
   "codemirror_mode": {
    "name": "ipython",
    "version": 3
   },
   "file_extension": ".py",
   "mimetype": "text/x-python",
   "name": "python",
   "nbconvert_exporter": "python",
   "pygments_lexer": "ipython3",
   "version": "3.7.0"
  }
 },
 "nbformat": 4,
 "nbformat_minor": 5
}
